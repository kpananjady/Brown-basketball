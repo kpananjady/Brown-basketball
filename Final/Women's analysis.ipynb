{
 "cells": [
  {
   "cell_type": "code",
   "execution_count": 1,
   "metadata": {},
   "outputs": [],
   "source": [
    "import pandas as pd \n",
    "import seaborn as sbs\n",
    "import matplotlib "
   ]
  },
  {
   "cell_type": "code",
   "execution_count": 3,
   "metadata": {},
   "outputs": [],
   "source": [
    "df_women = pd.read_csv('clean_women_final.csv')"
   ]
  },
  {
   "cell_type": "code",
   "execution_count": 4,
   "metadata": {},
   "outputs": [
    {
     "data": {
      "text/html": [
       "<div>\n",
       "<style scoped>\n",
       "    .dataframe tbody tr th:only-of-type {\n",
       "        vertical-align: middle;\n",
       "    }\n",
       "\n",
       "    .dataframe tbody tr th {\n",
       "        vertical-align: top;\n",
       "    }\n",
       "\n",
       "    .dataframe thead th {\n",
       "        text-align: right;\n",
       "    }\n",
       "</style>\n",
       "<table border=\"1\" class=\"dataframe\">\n",
       "  <thead>\n",
       "    <tr style=\"text-align: right;\">\n",
       "      <th></th>\n",
       "      <th>Position</th>\n",
       "      <th>Height</th>\n",
       "      <th>Number</th>\n",
       "      <th>Name</th>\n",
       "      <th>Hometown</th>\n",
       "      <th>School</th>\n",
       "      <th>Roster</th>\n",
       "      <th>Team</th>\n",
       "      <th>Class Year</th>\n",
       "    </tr>\n",
       "  </thead>\n",
       "  <tbody>\n",
       "    <tr>\n",
       "      <td>0</td>\n",
       "      <td>FORWARD</td>\n",
       "      <td>6'0\"</td>\n",
       "      <td>0</td>\n",
       "      <td>ALANA KELLEY</td>\n",
       "      <td>PHOENIX, ARIZ.</td>\n",
       "      <td>DESERT MOUNTAIN</td>\n",
       "      <td>2019-20</td>\n",
       "      <td>Women's Basketball</td>\n",
       "      <td>SO</td>\n",
       "    </tr>\n",
       "    <tr>\n",
       "      <td>1</td>\n",
       "      <td>GUARD</td>\n",
       "      <td>5'4\"</td>\n",
       "      <td>1</td>\n",
       "      <td>LEXI LOVE</td>\n",
       "      <td>OAKLAND, CALIF.</td>\n",
       "      <td>BISHOP O'DOWD</td>\n",
       "      <td>2019-20</td>\n",
       "      <td>Women's Basketball</td>\n",
       "      <td>FR</td>\n",
       "    </tr>\n",
       "    <tr>\n",
       "      <td>2</td>\n",
       "      <td>GUARD</td>\n",
       "      <td>5'5\"</td>\n",
       "      <td>3</td>\n",
       "      <td>DOMINIQUE LEONIDAS</td>\n",
       "      <td>STONE MOUNTAIN, GA.</td>\n",
       "      <td>PARKVIEW</td>\n",
       "      <td>2019-20</td>\n",
       "      <td>Women's Basketball</td>\n",
       "      <td>JR</td>\n",
       "    </tr>\n",
       "    <tr>\n",
       "      <td>3</td>\n",
       "      <td>GUARD</td>\n",
       "      <td>6'0\"</td>\n",
       "      <td>4</td>\n",
       "      <td>JUSTINE GAZIANO</td>\n",
       "      <td>NATICK, MASS.</td>\n",
       "      <td>NATICK</td>\n",
       "      <td>2019-20</td>\n",
       "      <td>Women's Basketball</td>\n",
       "      <td>SR</td>\n",
       "    </tr>\n",
       "    <tr>\n",
       "      <td>4</td>\n",
       "      <td>GUARD</td>\n",
       "      <td>6'0\"</td>\n",
       "      <td>5</td>\n",
       "      <td>MYLA COX</td>\n",
       "      <td>PETAL, MISS.</td>\n",
       "      <td>PETAL</td>\n",
       "      <td>2019-20</td>\n",
       "      <td>Women's Basketball</td>\n",
       "      <td>FR</td>\n",
       "    </tr>\n",
       "    <tr>\n",
       "      <td>...</td>\n",
       "      <td>...</td>\n",
       "      <td>...</td>\n",
       "      <td>...</td>\n",
       "      <td>...</td>\n",
       "      <td>...</td>\n",
       "      <td>...</td>\n",
       "      <td>...</td>\n",
       "      <td>...</td>\n",
       "      <td>...</td>\n",
       "    </tr>\n",
       "    <tr>\n",
       "      <td>157</td>\n",
       "      <td>GUARD</td>\n",
       "      <td>5'10\"</td>\n",
       "      <td>23</td>\n",
       "      <td>SHEILA DIXON</td>\n",
       "      <td>SCHENECTADY, NY</td>\n",
       "      <td>SCHENECTADY</td>\n",
       "      <td>2009-10</td>\n",
       "      <td>Women's Basketball</td>\n",
       "      <td>RS</td>\n",
       "    </tr>\n",
       "    <tr>\n",
       "      <td>158</td>\n",
       "      <td>GUARD</td>\n",
       "      <td>5'10\"</td>\n",
       "      <td>25</td>\n",
       "      <td>LINDSAY STEELE</td>\n",
       "      <td>ERIAL, NJ</td>\n",
       "      <td>TIMBER CREEK</td>\n",
       "      <td>2009-10</td>\n",
       "      <td>Women's Basketball</td>\n",
       "      <td>RS</td>\n",
       "    </tr>\n",
       "    <tr>\n",
       "      <td>159</td>\n",
       "      <td>FORWARD</td>\n",
       "      <td>5'10\"</td>\n",
       "      <td>30</td>\n",
       "      <td>AILEEN DANIELS</td>\n",
       "      <td>WALDWICK, NJ</td>\n",
       "      <td>IMMACULATE HEART ACADEMY</td>\n",
       "      <td>2009-10</td>\n",
       "      <td>Women's Basketball</td>\n",
       "      <td>RS</td>\n",
       "    </tr>\n",
       "    <tr>\n",
       "      <td>160</td>\n",
       "      <td>GUARD/FORWARD</td>\n",
       "      <td>6'0\"</td>\n",
       "      <td>32</td>\n",
       "      <td>SARAH DELK</td>\n",
       "      <td>ATLANTA, GA</td>\n",
       "      <td>WESLEYAN SCHOOL</td>\n",
       "      <td>2009-10</td>\n",
       "      <td>Women's Basketball</td>\n",
       "      <td>RS</td>\n",
       "    </tr>\n",
       "    <tr>\n",
       "      <td>161</td>\n",
       "      <td>FORWARD/GUARD</td>\n",
       "      <td>6'1\"</td>\n",
       "      <td>42</td>\n",
       "      <td>TAYLOR MASASCHI</td>\n",
       "      <td>CHATHAM, MA</td>\n",
       "      <td>CHATHAM</td>\n",
       "      <td>2009-10</td>\n",
       "      <td>Women's Basketball</td>\n",
       "      <td>RS</td>\n",
       "    </tr>\n",
       "  </tbody>\n",
       "</table>\n",
       "<p>162 rows × 9 columns</p>\n",
       "</div>"
      ],
      "text/plain": [
       "          Position Height  Number                Name             Hometown  \\\n",
       "0          FORWARD   6'0\"       0        ALANA KELLEY       PHOENIX, ARIZ.   \n",
       "1            GUARD   5'4\"       1           LEXI LOVE      OAKLAND, CALIF.   \n",
       "2            GUARD   5'5\"       3  DOMINIQUE LEONIDAS  STONE MOUNTAIN, GA.   \n",
       "3            GUARD   6'0\"       4     JUSTINE GAZIANO        NATICK, MASS.   \n",
       "4            GUARD   6'0\"       5            MYLA COX         PETAL, MISS.   \n",
       "..             ...    ...     ...                 ...                  ...   \n",
       "157          GUARD  5'10\"      23        SHEILA DIXON     SCHENECTADY, NY    \n",
       "158          GUARD  5'10\"      25      LINDSAY STEELE           ERIAL, NJ    \n",
       "159        FORWARD  5'10\"      30      AILEEN DANIELS        WALDWICK, NJ    \n",
       "160  GUARD/FORWARD   6'0\"      32          SARAH DELK         ATLANTA, GA    \n",
       "161  FORWARD/GUARD   6'1\"      42     TAYLOR MASASCHI         CHATHAM, MA    \n",
       "\n",
       "                       School   Roster                 Team Class Year  \n",
       "0             DESERT MOUNTAIN  2019-20   Women's Basketball         SO  \n",
       "1               BISHOP O'DOWD  2019-20   Women's Basketball         FR  \n",
       "2                    PARKVIEW  2019-20   Women's Basketball         JR  \n",
       "3                      NATICK  2019-20   Women's Basketball         SR  \n",
       "4                       PETAL  2019-20   Women's Basketball         FR  \n",
       "..                        ...      ...                  ...        ...  \n",
       "157               SCHENECTADY  2009-10   Women's Basketball         RS  \n",
       "158              TIMBER CREEK  2009-10   Women's Basketball         RS  \n",
       "159  IMMACULATE HEART ACADEMY  2009-10   Women's Basketball         RS  \n",
       "160           WESLEYAN SCHOOL  2009-10   Women's Basketball         RS  \n",
       "161                   CHATHAM  2009-10   Women's Basketball         RS  \n",
       "\n",
       "[162 rows x 9 columns]"
      ]
     },
     "execution_count": 4,
     "metadata": {},
     "output_type": "execute_result"
    }
   ],
   "source": [
    "df_women"
   ]
  },
  {
   "cell_type": "code",
   "execution_count": 5,
   "metadata": {},
   "outputs": [
    {
     "data": {
      "text/plain": [
       "Position      object\n",
       "Height        object\n",
       "Number         int64\n",
       "Name          object\n",
       "Hometown      object\n",
       "School        object\n",
       "Roster        object\n",
       "Team          object\n",
       "Class Year    object\n",
       "dtype: object"
      ]
     },
     "execution_count": 5,
     "metadata": {},
     "output_type": "execute_result"
    }
   ],
   "source": [
    "df_women.dtypes"
   ]
  },
  {
   "cell_type": "code",
   "execution_count": 6,
   "metadata": {},
   "outputs": [
    {
     "data": {
      "text/plain": [
       "2017-18    17\n",
       "2018-19    16\n",
       "2012-13    16\n",
       "2011-12    16\n",
       "2009-10    15\n",
       "2014-15    15\n",
       "2013-14    15\n",
       "2010-11    14\n",
       "2016-17    13\n",
       "2019-20    13\n",
       "2015-16    12\n",
       "Name: Roster, dtype: int64"
      ]
     },
     "execution_count": 6,
     "metadata": {},
     "output_type": "execute_result"
    }
   ],
   "source": [
    "df_women['Roster'].value_counts()\n"
   ]
  },
  {
   "cell_type": "code",
   "execution_count": 7,
   "metadata": {},
   "outputs": [],
   "source": [
    "#Are teams more underclassmen or upperclassmen heavy?"
   ]
  },
  {
   "cell_type": "code",
   "execution_count": 10,
   "metadata": {},
   "outputs": [
    {
     "data": {
      "text/plain": [
       "Roster   Class Year\n",
       "2009-10  RS            0.666667\n",
       "         JR            0.133333\n",
       "         SO            0.133333\n",
       "         SR            0.066667\n",
       "2010-11  FR            0.500000\n",
       "         JR            0.285714\n",
       "         SO            0.214286\n",
       "2011-12  SO            0.375000\n",
       "         FR            0.250000\n",
       "         JR            0.187500\n",
       "         SR            0.187500\n",
       "2012-13  JR            0.375000\n",
       "         SO            0.250000\n",
       "         FR            0.187500\n",
       "         SR            0.187500\n",
       "2013-14  SR            0.333333\n",
       "         JR            0.266667\n",
       "         FR            0.200000\n",
       "         SO            0.200000\n",
       "2014-15  FR            0.333333\n",
       "         SR            0.266667\n",
       "         JR            0.200000\n",
       "         SO            0.200000\n",
       "2015-16  FR            0.416667\n",
       "         SO            0.250000\n",
       "         SR            0.250000\n",
       "         JR            0.083333\n",
       "2016-17  FR            0.461538\n",
       "         SO            0.384615\n",
       "         JR            0.153846\n",
       "2017-18  FR            0.294118\n",
       "         JR            0.294118\n",
       "         SO            0.294118\n",
       "         SR            0.117647\n",
       "2018-19  FR            0.312500\n",
       "         SO            0.250000\n",
       "         SR            0.250000\n",
       "         JR            0.187500\n",
       "2019-20  FR            0.384615\n",
       "         SO            0.307692\n",
       "         JR            0.153846\n",
       "         SR            0.153846\n",
       "Name: Class Year, dtype: float64"
      ]
     },
     "execution_count": 10,
     "metadata": {},
     "output_type": "execute_result"
    }
   ],
   "source": [
    "df_women.groupby(by='Roster')['Class Year'].value_counts(normalize=True)\n"
   ]
  },
  {
   "cell_type": "code",
   "execution_count": 15,
   "metadata": {},
   "outputs": [],
   "source": [
    "df_conversion = pd.read_csv('long_to_wide.csv')"
   ]
  },
  {
   "cell_type": "code",
   "execution_count": 16,
   "metadata": {},
   "outputs": [
    {
     "data": {
      "text/html": [
       "<div>\n",
       "<style scoped>\n",
       "    .dataframe tbody tr th:only-of-type {\n",
       "        vertical-align: middle;\n",
       "    }\n",
       "\n",
       "    .dataframe tbody tr th {\n",
       "        vertical-align: top;\n",
       "    }\n",
       "\n",
       "    .dataframe thead th {\n",
       "        text-align: right;\n",
       "    }\n",
       "</style>\n",
       "<table border=\"1\" class=\"dataframe\">\n",
       "  <thead>\n",
       "    <tr style=\"text-align: right;\">\n",
       "      <th>Class_Year</th>\n",
       "      <th>FR</th>\n",
       "      <th>JR</th>\n",
       "      <th>RS</th>\n",
       "      <th>SO</th>\n",
       "      <th>SR</th>\n",
       "    </tr>\n",
       "    <tr>\n",
       "      <th>Roster</th>\n",
       "      <th></th>\n",
       "      <th></th>\n",
       "      <th></th>\n",
       "      <th></th>\n",
       "      <th></th>\n",
       "    </tr>\n",
       "  </thead>\n",
       "  <tbody>\n",
       "    <tr>\n",
       "      <td>2009-10</td>\n",
       "      <td>NaN</td>\n",
       "      <td>0.133333</td>\n",
       "      <td>0.666667</td>\n",
       "      <td>0.133333</td>\n",
       "      <td>0.066667</td>\n",
       "    </tr>\n",
       "    <tr>\n",
       "      <td>2010-11</td>\n",
       "      <td>0.500000</td>\n",
       "      <td>0.285714</td>\n",
       "      <td>NaN</td>\n",
       "      <td>0.214286</td>\n",
       "      <td>NaN</td>\n",
       "    </tr>\n",
       "    <tr>\n",
       "      <td>2011-12</td>\n",
       "      <td>0.250000</td>\n",
       "      <td>0.187500</td>\n",
       "      <td>NaN</td>\n",
       "      <td>0.375000</td>\n",
       "      <td>0.187500</td>\n",
       "    </tr>\n",
       "    <tr>\n",
       "      <td>2012-13</td>\n",
       "      <td>0.187500</td>\n",
       "      <td>0.375000</td>\n",
       "      <td>NaN</td>\n",
       "      <td>0.250000</td>\n",
       "      <td>0.187500</td>\n",
       "    </tr>\n",
       "    <tr>\n",
       "      <td>2013-14</td>\n",
       "      <td>0.200000</td>\n",
       "      <td>0.266667</td>\n",
       "      <td>NaN</td>\n",
       "      <td>0.200000</td>\n",
       "      <td>0.333333</td>\n",
       "    </tr>\n",
       "    <tr>\n",
       "      <td>2014-15</td>\n",
       "      <td>0.333333</td>\n",
       "      <td>0.200000</td>\n",
       "      <td>NaN</td>\n",
       "      <td>0.200000</td>\n",
       "      <td>0.266667</td>\n",
       "    </tr>\n",
       "    <tr>\n",
       "      <td>2015-16</td>\n",
       "      <td>0.416667</td>\n",
       "      <td>0.083333</td>\n",
       "      <td>NaN</td>\n",
       "      <td>0.250000</td>\n",
       "      <td>0.250000</td>\n",
       "    </tr>\n",
       "    <tr>\n",
       "      <td>2016-17</td>\n",
       "      <td>0.461538</td>\n",
       "      <td>0.153846</td>\n",
       "      <td>NaN</td>\n",
       "      <td>0.384615</td>\n",
       "      <td>NaN</td>\n",
       "    </tr>\n",
       "    <tr>\n",
       "      <td>2017-18</td>\n",
       "      <td>0.294118</td>\n",
       "      <td>0.294118</td>\n",
       "      <td>NaN</td>\n",
       "      <td>0.294118</td>\n",
       "      <td>0.117647</td>\n",
       "    </tr>\n",
       "    <tr>\n",
       "      <td>2018-19</td>\n",
       "      <td>0.312500</td>\n",
       "      <td>0.187500</td>\n",
       "      <td>NaN</td>\n",
       "      <td>0.250000</td>\n",
       "      <td>0.250000</td>\n",
       "    </tr>\n",
       "    <tr>\n",
       "      <td>2019-20</td>\n",
       "      <td>0.384615</td>\n",
       "      <td>0.153846</td>\n",
       "      <td>NaN</td>\n",
       "      <td>0.307692</td>\n",
       "      <td>0.153846</td>\n",
       "    </tr>\n",
       "  </tbody>\n",
       "</table>\n",
       "</div>"
      ],
      "text/plain": [
       "Class_Year        FR        JR        RS        SO        SR\n",
       "Roster                                                      \n",
       "2009-10          NaN  0.133333  0.666667  0.133333  0.066667\n",
       "2010-11     0.500000  0.285714       NaN  0.214286       NaN\n",
       "2011-12     0.250000  0.187500       NaN  0.375000  0.187500\n",
       "2012-13     0.187500  0.375000       NaN  0.250000  0.187500\n",
       "2013-14     0.200000  0.266667       NaN  0.200000  0.333333\n",
       "2014-15     0.333333  0.200000       NaN  0.200000  0.266667\n",
       "2015-16     0.416667  0.083333       NaN  0.250000  0.250000\n",
       "2016-17     0.461538  0.153846       NaN  0.384615       NaN\n",
       "2017-18     0.294118  0.294118       NaN  0.294118  0.117647\n",
       "2018-19     0.312500  0.187500       NaN  0.250000  0.250000\n",
       "2019-20     0.384615  0.153846       NaN  0.307692  0.153846"
      ]
     },
     "execution_count": 16,
     "metadata": {},
     "output_type": "execute_result"
    }
   ],
   "source": [
    "df_conversion.pivot(index='Roster', columns='Class_Year', values='Percent')"
   ]
  },
  {
   "cell_type": "code",
   "execution_count": 17,
   "metadata": {},
   "outputs": [],
   "source": [
    "#Splitting dataframe into little dataframes based on the year in which people played"
   ]
  },
  {
   "cell_type": "code",
   "execution_count": 20,
   "metadata": {},
   "outputs": [],
   "source": [
    "df1 = df_women[df_men['Roster']=='2009-10']"
   ]
  },
  {
   "cell_type": "code",
   "execution_count": 21,
   "metadata": {},
   "outputs": [
    {
     "data": {
      "text/html": [
       "<div>\n",
       "<style scoped>\n",
       "    .dataframe tbody tr th:only-of-type {\n",
       "        vertical-align: middle;\n",
       "    }\n",
       "\n",
       "    .dataframe tbody tr th {\n",
       "        vertical-align: top;\n",
       "    }\n",
       "\n",
       "    .dataframe thead th {\n",
       "        text-align: right;\n",
       "    }\n",
       "</style>\n",
       "<table border=\"1\" class=\"dataframe\">\n",
       "  <thead>\n",
       "    <tr style=\"text-align: right;\">\n",
       "      <th></th>\n",
       "      <th>Position</th>\n",
       "      <th>Height</th>\n",
       "      <th>Number</th>\n",
       "      <th>Name</th>\n",
       "      <th>Hometown</th>\n",
       "      <th>School</th>\n",
       "      <th>Roster</th>\n",
       "      <th>Team</th>\n",
       "      <th>Class Year</th>\n",
       "    </tr>\n",
       "  </thead>\n",
       "  <tbody>\n",
       "    <tr>\n",
       "      <td>147</td>\n",
       "      <td>FORWARD</td>\n",
       "      <td>6'2\"</td>\n",
       "      <td>0</td>\n",
       "      <td>CAROLINE KING</td>\n",
       "      <td>VALENCIA, PA</td>\n",
       "      <td>OAKLAND CATHOLIC</td>\n",
       "      <td>2009-10</td>\n",
       "      <td>Women's Basketball</td>\n",
       "      <td>RS</td>\n",
       "    </tr>\n",
       "    <tr>\n",
       "      <td>148</td>\n",
       "      <td>GUARD</td>\n",
       "      <td>5'6\"</td>\n",
       "      <td>3</td>\n",
       "      <td>STHEFANY ALVIAR</td>\n",
       "      <td>PANORAMA CITY, CA</td>\n",
       "      <td>BIRMINGHAM</td>\n",
       "      <td>2009-10</td>\n",
       "      <td>Women's Basketball</td>\n",
       "      <td>SO</td>\n",
       "    </tr>\n",
       "    <tr>\n",
       "      <td>149</td>\n",
       "      <td>FORWARD</td>\n",
       "      <td>6'0\"</td>\n",
       "      <td>4</td>\n",
       "      <td>BETSY JACOBSON</td>\n",
       "      <td>ROCHESTER, NY</td>\n",
       "      <td>OUR LADY OF MERCY</td>\n",
       "      <td>2009-10</td>\n",
       "      <td>Women's Basketball</td>\n",
       "      <td>JR</td>\n",
       "    </tr>\n",
       "    <tr>\n",
       "      <td>150</td>\n",
       "      <td>GUARD</td>\n",
       "      <td>5'11\"</td>\n",
       "      <td>11</td>\n",
       "      <td>LINDSAY NICKEL</td>\n",
       "      <td>LOS ALTOS, CA</td>\n",
       "      <td>PINEWOOD</td>\n",
       "      <td>2009-10</td>\n",
       "      <td>Women's Basketball</td>\n",
       "      <td>RS</td>\n",
       "    </tr>\n",
       "    <tr>\n",
       "      <td>151</td>\n",
       "      <td>GUARD</td>\n",
       "      <td>5'10\"</td>\n",
       "      <td>12</td>\n",
       "      <td>SADIEA WILLIAMS</td>\n",
       "      <td>LUNENBURG, MA</td>\n",
       "      <td>LUNENBURG</td>\n",
       "      <td>2009-10</td>\n",
       "      <td>Women's Basketball</td>\n",
       "      <td>RS</td>\n",
       "    </tr>\n",
       "    <tr>\n",
       "      <td>152</td>\n",
       "      <td>FORWARD</td>\n",
       "      <td>6'1\"</td>\n",
       "      <td>13</td>\n",
       "      <td>NATALIE BONDS</td>\n",
       "      <td>TAVERES, FL</td>\n",
       "      <td>TAVERES</td>\n",
       "      <td>2009-10</td>\n",
       "      <td>Women's Basketball</td>\n",
       "      <td>SR</td>\n",
       "    </tr>\n",
       "    <tr>\n",
       "      <td>153</td>\n",
       "      <td>GUARD</td>\n",
       "      <td>5'7\"</td>\n",
       "      <td>14</td>\n",
       "      <td>CHRISTINA JOHNSON</td>\n",
       "      <td>OAKLAND, CA</td>\n",
       "      <td>ST. MARY'S</td>\n",
       "      <td>2009-10</td>\n",
       "      <td>Women's Basketball</td>\n",
       "      <td>RS</td>\n",
       "    </tr>\n",
       "    <tr>\n",
       "      <td>154</td>\n",
       "      <td>GUARD</td>\n",
       "      <td>5'8\"</td>\n",
       "      <td>15</td>\n",
       "      <td>COURTNEY LEE</td>\n",
       "      <td>ARCHER, FL</td>\n",
       "      <td>OAK HALL</td>\n",
       "      <td>2009-10</td>\n",
       "      <td>Women's Basketball</td>\n",
       "      <td>RS</td>\n",
       "    </tr>\n",
       "    <tr>\n",
       "      <td>155</td>\n",
       "      <td>GUARD</td>\n",
       "      <td>5'10\"</td>\n",
       "      <td>20</td>\n",
       "      <td>HANNAH PASSAFUIME</td>\n",
       "      <td>SOQUEL, CA</td>\n",
       "      <td>SOQUEL HIGH SCHOOL</td>\n",
       "      <td>2009-10</td>\n",
       "      <td>Women's Basketball</td>\n",
       "      <td>SO</td>\n",
       "    </tr>\n",
       "    <tr>\n",
       "      <td>156</td>\n",
       "      <td>GUARD/FORWARD</td>\n",
       "      <td>6'1\"</td>\n",
       "      <td>21</td>\n",
       "      <td>ALYSSA BLOOD</td>\n",
       "      <td>ENGLAND</td>\n",
       "      <td>THE AMERICAN SCHOOL</td>\n",
       "      <td>2009-10</td>\n",
       "      <td>Women's Basketball</td>\n",
       "      <td>JR</td>\n",
       "    </tr>\n",
       "    <tr>\n",
       "      <td>157</td>\n",
       "      <td>GUARD</td>\n",
       "      <td>5'10\"</td>\n",
       "      <td>23</td>\n",
       "      <td>SHEILA DIXON</td>\n",
       "      <td>SCHENECTADY, NY</td>\n",
       "      <td>SCHENECTADY</td>\n",
       "      <td>2009-10</td>\n",
       "      <td>Women's Basketball</td>\n",
       "      <td>RS</td>\n",
       "    </tr>\n",
       "    <tr>\n",
       "      <td>158</td>\n",
       "      <td>GUARD</td>\n",
       "      <td>5'10\"</td>\n",
       "      <td>25</td>\n",
       "      <td>LINDSAY STEELE</td>\n",
       "      <td>ERIAL, NJ</td>\n",
       "      <td>TIMBER CREEK</td>\n",
       "      <td>2009-10</td>\n",
       "      <td>Women's Basketball</td>\n",
       "      <td>RS</td>\n",
       "    </tr>\n",
       "    <tr>\n",
       "      <td>159</td>\n",
       "      <td>FORWARD</td>\n",
       "      <td>5'10\"</td>\n",
       "      <td>30</td>\n",
       "      <td>AILEEN DANIELS</td>\n",
       "      <td>WALDWICK, NJ</td>\n",
       "      <td>IMMACULATE HEART ACADEMY</td>\n",
       "      <td>2009-10</td>\n",
       "      <td>Women's Basketball</td>\n",
       "      <td>RS</td>\n",
       "    </tr>\n",
       "    <tr>\n",
       "      <td>160</td>\n",
       "      <td>GUARD/FORWARD</td>\n",
       "      <td>6'0\"</td>\n",
       "      <td>32</td>\n",
       "      <td>SARAH DELK</td>\n",
       "      <td>ATLANTA, GA</td>\n",
       "      <td>WESLEYAN SCHOOL</td>\n",
       "      <td>2009-10</td>\n",
       "      <td>Women's Basketball</td>\n",
       "      <td>RS</td>\n",
       "    </tr>\n",
       "    <tr>\n",
       "      <td>161</td>\n",
       "      <td>FORWARD/GUARD</td>\n",
       "      <td>6'1\"</td>\n",
       "      <td>42</td>\n",
       "      <td>TAYLOR MASASCHI</td>\n",
       "      <td>CHATHAM, MA</td>\n",
       "      <td>CHATHAM</td>\n",
       "      <td>2009-10</td>\n",
       "      <td>Women's Basketball</td>\n",
       "      <td>RS</td>\n",
       "    </tr>\n",
       "  </tbody>\n",
       "</table>\n",
       "</div>"
      ],
      "text/plain": [
       "          Position Height  Number               Name            Hometown  \\\n",
       "147        FORWARD   6'2\"       0      CAROLINE KING       VALENCIA, PA    \n",
       "148          GUARD   5'6\"       3    STHEFANY ALVIAR  PANORAMA CITY, CA    \n",
       "149        FORWARD   6'0\"       4     BETSY JACOBSON      ROCHESTER, NY    \n",
       "150          GUARD  5'11\"      11     LINDSAY NICKEL      LOS ALTOS, CA    \n",
       "151          GUARD  5'10\"      12    SADIEA WILLIAMS      LUNENBURG, MA    \n",
       "152        FORWARD   6'1\"      13      NATALIE BONDS        TAVERES, FL    \n",
       "153          GUARD   5'7\"      14  CHRISTINA JOHNSON        OAKLAND, CA    \n",
       "154          GUARD   5'8\"      15       COURTNEY LEE         ARCHER, FL    \n",
       "155          GUARD  5'10\"      20  HANNAH PASSAFUIME         SOQUEL, CA    \n",
       "156  GUARD/FORWARD   6'1\"      21       ALYSSA BLOOD             ENGLAND   \n",
       "157          GUARD  5'10\"      23       SHEILA DIXON    SCHENECTADY, NY    \n",
       "158          GUARD  5'10\"      25     LINDSAY STEELE          ERIAL, NJ    \n",
       "159        FORWARD  5'10\"      30     AILEEN DANIELS       WALDWICK, NJ    \n",
       "160  GUARD/FORWARD   6'0\"      32         SARAH DELK        ATLANTA, GA    \n",
       "161  FORWARD/GUARD   6'1\"      42    TAYLOR MASASCHI        CHATHAM, MA    \n",
       "\n",
       "                       School   Roster                 Team Class Year  \n",
       "147          OAKLAND CATHOLIC  2009-10   Women's Basketball         RS  \n",
       "148                BIRMINGHAM  2009-10   Women's Basketball         SO  \n",
       "149         OUR LADY OF MERCY  2009-10   Women's Basketball         JR  \n",
       "150                  PINEWOOD  2009-10   Women's Basketball         RS  \n",
       "151                 LUNENBURG  2009-10   Women's Basketball         RS  \n",
       "152                   TAVERES  2009-10   Women's Basketball         SR  \n",
       "153                ST. MARY'S  2009-10   Women's Basketball         RS  \n",
       "154                  OAK HALL  2009-10   Women's Basketball         RS  \n",
       "155        SOQUEL HIGH SCHOOL  2009-10   Women's Basketball         SO  \n",
       "156       THE AMERICAN SCHOOL  2009-10   Women's Basketball         JR  \n",
       "157               SCHENECTADY  2009-10   Women's Basketball         RS  \n",
       "158              TIMBER CREEK  2009-10   Women's Basketball         RS  \n",
       "159  IMMACULATE HEART ACADEMY  2009-10   Women's Basketball         RS  \n",
       "160           WESLEYAN SCHOOL  2009-10   Women's Basketball         RS  \n",
       "161                   CHATHAM  2009-10   Women's Basketball         RS  "
      ]
     },
     "execution_count": 21,
     "metadata": {},
     "output_type": "execute_result"
    }
   ],
   "source": [
    "df1"
   ]
  },
  {
   "cell_type": "code",
   "execution_count": 22,
   "metadata": {},
   "outputs": [],
   "source": [
    "df2 = df_women[df_women['Roster']=='2010-11']"
   ]
  },
  {
   "cell_type": "code",
   "execution_count": 23,
   "metadata": {},
   "outputs": [
    {
     "data": {
      "text/html": [
       "<div>\n",
       "<style scoped>\n",
       "    .dataframe tbody tr th:only-of-type {\n",
       "        vertical-align: middle;\n",
       "    }\n",
       "\n",
       "    .dataframe tbody tr th {\n",
       "        vertical-align: top;\n",
       "    }\n",
       "\n",
       "    .dataframe thead th {\n",
       "        text-align: right;\n",
       "    }\n",
       "</style>\n",
       "<table border=\"1\" class=\"dataframe\">\n",
       "  <thead>\n",
       "    <tr style=\"text-align: right;\">\n",
       "      <th></th>\n",
       "      <th>Position</th>\n",
       "      <th>Height</th>\n",
       "      <th>Number</th>\n",
       "      <th>Name</th>\n",
       "      <th>Hometown</th>\n",
       "      <th>School</th>\n",
       "      <th>Roster</th>\n",
       "      <th>Team</th>\n",
       "      <th>Class Year</th>\n",
       "    </tr>\n",
       "  </thead>\n",
       "  <tbody>\n",
       "    <tr>\n",
       "      <td>133</td>\n",
       "      <td>FORWARD</td>\n",
       "      <td>6'2\"</td>\n",
       "      <td>0</td>\n",
       "      <td>CAROLINE KING</td>\n",
       "      <td>VALENCIA, PA</td>\n",
       "      <td>OAKLAND CATHOLIC</td>\n",
       "      <td>2010-11</td>\n",
       "      <td>Women's Basketball</td>\n",
       "      <td>SO</td>\n",
       "    </tr>\n",
       "    <tr>\n",
       "      <td>134</td>\n",
       "      <td>FORWARD</td>\n",
       "      <td>6'0\"</td>\n",
       "      <td>3</td>\n",
       "      <td>JORDIN JUKER</td>\n",
       "      <td>BOISE, ID</td>\n",
       "      <td>BOISE HIGH SCHOOL</td>\n",
       "      <td>2010-11</td>\n",
       "      <td>Women's Basketball</td>\n",
       "      <td>FR</td>\n",
       "    </tr>\n",
       "    <tr>\n",
       "      <td>135</td>\n",
       "      <td>GUARD</td>\n",
       "      <td>5'6\"</td>\n",
       "      <td>10</td>\n",
       "      <td>LAUREN CLARKE</td>\n",
       "      <td>COLTS NECK, NJ</td>\n",
       "      <td>COLTS NECK</td>\n",
       "      <td>2010-11</td>\n",
       "      <td>Women's Basketball</td>\n",
       "      <td>FR</td>\n",
       "    </tr>\n",
       "    <tr>\n",
       "      <td>136</td>\n",
       "      <td>GUARD</td>\n",
       "      <td>5'8\"</td>\n",
       "      <td>11</td>\n",
       "      <td>JACQUELINE SCHONINGER</td>\n",
       "      <td>NEW YORK, NY</td>\n",
       "      <td>FIELDSTON SCHOOL</td>\n",
       "      <td>2010-11</td>\n",
       "      <td>Women's Basketball</td>\n",
       "      <td>FR</td>\n",
       "    </tr>\n",
       "    <tr>\n",
       "      <td>137</td>\n",
       "      <td>GUARD</td>\n",
       "      <td>5'10\"</td>\n",
       "      <td>20</td>\n",
       "      <td>HANNAH PASSAFUIME</td>\n",
       "      <td>SOQUEL, CA</td>\n",
       "      <td>SOQUEL HIGH SCHOOL</td>\n",
       "      <td>2010-11</td>\n",
       "      <td>Women's Basketball</td>\n",
       "      <td>JR</td>\n",
       "    </tr>\n",
       "    <tr>\n",
       "      <td>138</td>\n",
       "      <td>GUARD/FORWARD</td>\n",
       "      <td>5'11\"</td>\n",
       "      <td>21</td>\n",
       "      <td>MAGGIE SMITH</td>\n",
       "      <td>LILBURN, GA</td>\n",
       "      <td>PARKVIEW HIGH SCHOOL</td>\n",
       "      <td>2010-11</td>\n",
       "      <td>Women's Basketball</td>\n",
       "      <td>FR</td>\n",
       "    </tr>\n",
       "    <tr>\n",
       "      <td>139</td>\n",
       "      <td>GUARD</td>\n",
       "      <td>5'6\"</td>\n",
       "      <td>22</td>\n",
       "      <td>LAURA KOBASHIGAWA</td>\n",
       "      <td>PLAYA DEL REY, CA</td>\n",
       "      <td>BRENTWOOD</td>\n",
       "      <td>2010-11</td>\n",
       "      <td>Women's Basketball</td>\n",
       "      <td>FR</td>\n",
       "    </tr>\n",
       "    <tr>\n",
       "      <td>140</td>\n",
       "      <td>GUARD</td>\n",
       "      <td>5'10\"</td>\n",
       "      <td>23</td>\n",
       "      <td>SHEILA DIXON</td>\n",
       "      <td>SCHENECTADY, NY</td>\n",
       "      <td>SCHENECTADY</td>\n",
       "      <td>2010-11</td>\n",
       "      <td>Women's Basketball</td>\n",
       "      <td>SO</td>\n",
       "    </tr>\n",
       "    <tr>\n",
       "      <td>141</td>\n",
       "      <td>FORWARD</td>\n",
       "      <td>6'1\"</td>\n",
       "      <td>24</td>\n",
       "      <td>SOPHIE BEUTEL</td>\n",
       "      <td>TORONTO, ON</td>\n",
       "      <td>NORTHERN SECONDARY SCHOOL</td>\n",
       "      <td>2010-11</td>\n",
       "      <td>Women's Basketball</td>\n",
       "      <td>FR</td>\n",
       "    </tr>\n",
       "    <tr>\n",
       "      <td>142</td>\n",
       "      <td>GUARD</td>\n",
       "      <td>5'10\"</td>\n",
       "      <td>25</td>\n",
       "      <td>LINDSAY STEELE</td>\n",
       "      <td>ERIAL, NJ</td>\n",
       "      <td>TIMBER CREEK</td>\n",
       "      <td>2010-11</td>\n",
       "      <td>Women's Basketball</td>\n",
       "      <td>JR</td>\n",
       "    </tr>\n",
       "    <tr>\n",
       "      <td>143</td>\n",
       "      <td>FORWARD</td>\n",
       "      <td>5'10\"</td>\n",
       "      <td>30</td>\n",
       "      <td>AILEEN DANIELS</td>\n",
       "      <td>WALDWICK, NJ</td>\n",
       "      <td>IMMACULATE HEART ACADEMY</td>\n",
       "      <td>2010-11</td>\n",
       "      <td>Women's Basketball</td>\n",
       "      <td>JR</td>\n",
       "    </tr>\n",
       "    <tr>\n",
       "      <td>144</td>\n",
       "      <td>FORWARD</td>\n",
       "      <td>6'2\"</td>\n",
       "      <td>31</td>\n",
       "      <td>CARLY WELLINGTON</td>\n",
       "      <td>LAKE OSWEGO, OR</td>\n",
       "      <td>JESUIT HIGH SCHOOL</td>\n",
       "      <td>2010-11</td>\n",
       "      <td>Women's Basketball</td>\n",
       "      <td>FR</td>\n",
       "    </tr>\n",
       "    <tr>\n",
       "      <td>145</td>\n",
       "      <td>GUARD</td>\n",
       "      <td>5'6\"</td>\n",
       "      <td>33</td>\n",
       "      <td>STHEFANY ALVIAR</td>\n",
       "      <td>PANORAMA CITY, CA</td>\n",
       "      <td>BIRMINGHAM</td>\n",
       "      <td>2010-11</td>\n",
       "      <td>Women's Basketball</td>\n",
       "      <td>JR</td>\n",
       "    </tr>\n",
       "    <tr>\n",
       "      <td>146</td>\n",
       "      <td>GUARD</td>\n",
       "      <td>5'11\"</td>\n",
       "      <td>44</td>\n",
       "      <td>LINDSAY NICKEL</td>\n",
       "      <td>LOS ALTOS, CA</td>\n",
       "      <td>PINEWOOD</td>\n",
       "      <td>2010-11</td>\n",
       "      <td>Women's Basketball</td>\n",
       "      <td>SO</td>\n",
       "    </tr>\n",
       "  </tbody>\n",
       "</table>\n",
       "</div>"
      ],
      "text/plain": [
       "          Position Height  Number                   Name            Hometown  \\\n",
       "133        FORWARD   6'2\"       0          CAROLINE KING       VALENCIA, PA    \n",
       "134        FORWARD   6'0\"       3           JORDIN JUKER          BOISE, ID    \n",
       "135          GUARD   5'6\"      10          LAUREN CLARKE     COLTS NECK, NJ    \n",
       "136          GUARD   5'8\"      11  JACQUELINE SCHONINGER       NEW YORK, NY    \n",
       "137          GUARD  5'10\"      20      HANNAH PASSAFUIME         SOQUEL, CA    \n",
       "138  GUARD/FORWARD  5'11\"      21           MAGGIE SMITH        LILBURN, GA    \n",
       "139          GUARD   5'6\"      22      LAURA KOBASHIGAWA  PLAYA DEL REY, CA    \n",
       "140          GUARD  5'10\"      23           SHEILA DIXON    SCHENECTADY, NY    \n",
       "141        FORWARD   6'1\"      24          SOPHIE BEUTEL        TORONTO, ON    \n",
       "142          GUARD  5'10\"      25         LINDSAY STEELE          ERIAL, NJ    \n",
       "143        FORWARD  5'10\"      30         AILEEN DANIELS       WALDWICK, NJ    \n",
       "144        FORWARD   6'2\"      31       CARLY WELLINGTON    LAKE OSWEGO, OR    \n",
       "145          GUARD   5'6\"      33        STHEFANY ALVIAR  PANORAMA CITY, CA    \n",
       "146          GUARD  5'11\"      44         LINDSAY NICKEL      LOS ALTOS, CA    \n",
       "\n",
       "                        School   Roster                  Team Class Year  \n",
       "133           OAKLAND CATHOLIC  2010-11   Women's Basketball          SO  \n",
       "134          BOISE HIGH SCHOOL  2010-11   Women's Basketball          FR  \n",
       "135                 COLTS NECK  2010-11   Women's Basketball          FR  \n",
       "136           FIELDSTON SCHOOL  2010-11   Women's Basketball          FR  \n",
       "137         SOQUEL HIGH SCHOOL  2010-11   Women's Basketball          JR  \n",
       "138       PARKVIEW HIGH SCHOOL  2010-11   Women's Basketball          FR  \n",
       "139                  BRENTWOOD  2010-11   Women's Basketball          FR  \n",
       "140                SCHENECTADY  2010-11   Women's Basketball          SO  \n",
       "141  NORTHERN SECONDARY SCHOOL  2010-11   Women's Basketball          FR  \n",
       "142               TIMBER CREEK  2010-11   Women's Basketball          JR  \n",
       "143   IMMACULATE HEART ACADEMY  2010-11   Women's Basketball          JR  \n",
       "144         JESUIT HIGH SCHOOL  2010-11   Women's Basketball          FR  \n",
       "145                 BIRMINGHAM  2010-11   Women's Basketball          JR  \n",
       "146                   PINEWOOD  2010-11   Women's Basketball          SO  "
      ]
     },
     "execution_count": 23,
     "metadata": {},
     "output_type": "execute_result"
    }
   ],
   "source": [
    "df2"
   ]
  },
  {
   "cell_type": "code",
   "execution_count": 24,
   "metadata": {},
   "outputs": [],
   "source": [
    "df3 = df_women[df_women['Roster']=='2011-12']"
   ]
  },
  {
   "cell_type": "code",
   "execution_count": 25,
   "metadata": {},
   "outputs": [],
   "source": [
    "df4 = df_women[df_women['Roster']=='2012-13']"
   ]
  },
  {
   "cell_type": "code",
   "execution_count": 26,
   "metadata": {},
   "outputs": [],
   "source": [
    "df5 = df_women[df_women['Roster']=='2013-14']"
   ]
  },
  {
   "cell_type": "code",
   "execution_count": 28,
   "metadata": {},
   "outputs": [],
   "source": [
    "df6 = df_women[df_women['Roster']=='2014-15']"
   ]
  },
  {
   "cell_type": "code",
   "execution_count": 30,
   "metadata": {},
   "outputs": [],
   "source": [
    "df7 = df_women[df_women['Roster']=='2015-16']"
   ]
  },
  {
   "cell_type": "code",
   "execution_count": 31,
   "metadata": {},
   "outputs": [],
   "source": [
    "df8 = df_women[df_women['Roster']=='2016-17']"
   ]
  },
  {
   "cell_type": "code",
   "execution_count": 32,
   "metadata": {},
   "outputs": [],
   "source": [
    "df9 = df_women[df_women['Roster']=='2017-18']"
   ]
  },
  {
   "cell_type": "code",
   "execution_count": 33,
   "metadata": {},
   "outputs": [],
   "source": [
    "df10 =  df_women[df_women['Roster']=='2018-19']"
   ]
  },
  {
   "cell_type": "code",
   "execution_count": 34,
   "metadata": {},
   "outputs": [],
   "source": [
    "df11= df_women[df_women['Roster']=='2019-20']"
   ]
  },
  {
   "cell_type": "code",
   "execution_count": 35,
   "metadata": {},
   "outputs": [],
   "source": [
    "#Calculating the intersection of the roster this year with that of the next"
   ]
  },
  {
   "cell_type": "code",
   "execution_count": 36,
   "metadata": {},
   "outputs": [],
   "source": [
    "df_inner_1 = pd.merge(df1['Name'], df2['Name'], how='inner')"
   ]
  },
  {
   "cell_type": "code",
   "execution_count": 37,
   "metadata": {},
   "outputs": [],
   "source": [
    "df_inner_2 = pd.merge(df2['Name'], df3['Name'], how='inner')"
   ]
  },
  {
   "cell_type": "code",
   "execution_count": 38,
   "metadata": {},
   "outputs": [],
   "source": [
    "df_inner_3 = pd.merge(df3['Name'], df4['Name'], how='inner')"
   ]
  },
  {
   "cell_type": "code",
   "execution_count": 39,
   "metadata": {},
   "outputs": [],
   "source": [
    "df_inner_4 = pd.merge(df4['Name'], df5['Name'], how='inner')"
   ]
  },
  {
   "cell_type": "code",
   "execution_count": 40,
   "metadata": {},
   "outputs": [],
   "source": [
    "df_inner_5 = pd.merge(df5['Name'], df6['Name'], how='inner')"
   ]
  },
  {
   "cell_type": "code",
   "execution_count": 41,
   "metadata": {},
   "outputs": [],
   "source": [
    "df_inner_6 = pd.merge(df6['Name'], df7['Name'], how='inner')"
   ]
  },
  {
   "cell_type": "code",
   "execution_count": 42,
   "metadata": {},
   "outputs": [],
   "source": [
    "df_inner_7 = pd.merge(df7['Name'], df8['Name'], how='inner')"
   ]
  },
  {
   "cell_type": "code",
   "execution_count": 43,
   "metadata": {},
   "outputs": [],
   "source": [
    "df_inner_8 = pd.merge(df8['Name'], df9['Name'], how='inner')"
   ]
  },
  {
   "cell_type": "code",
   "execution_count": 44,
   "metadata": {},
   "outputs": [],
   "source": [
    "df_inner_9 = pd.merge(df9['Name'], df10['Name'], how='inner')"
   ]
  },
  {
   "cell_type": "code",
   "execution_count": 45,
   "metadata": {},
   "outputs": [],
   "source": [
    "df_inner_10 = pd.merge(df10['Name'], df11['Name'], how='inner')"
   ]
  },
  {
   "cell_type": "code",
   "execution_count": null,
   "metadata": {},
   "outputs": [],
   "source": [
    "#Contrasting the number of non-senior players with the players who went on to play the next year"
   ]
  },
  {
   "cell_type": "code",
   "execution_count": 46,
   "metadata": {},
   "outputs": [
    {
     "data": {
      "text/plain": [
       "14"
      ]
     },
     "execution_count": 46,
     "metadata": {},
     "output_type": "execute_result"
    }
   ],
   "source": [
    "len(df1[df1['Class Year'] != 'SR'])"
   ]
  },
  {
   "cell_type": "code",
   "execution_count": 47,
   "metadata": {},
   "outputs": [],
   "source": [
    "#09-10"
   ]
  },
  {
   "cell_type": "code",
   "execution_count": 53,
   "metadata": {},
   "outputs": [
    {
     "data": {
      "text/plain": [
       "14"
      ]
     },
     "execution_count": 53,
     "metadata": {},
     "output_type": "execute_result"
    }
   ],
   "source": [
    "len(df1[df1['Class Year'] != 'SR'])"
   ]
  },
  {
   "cell_type": "code",
   "execution_count": 48,
   "metadata": {},
   "outputs": [
    {
     "data": {
      "text/plain": [
       "7"
      ]
     },
     "execution_count": 48,
     "metadata": {},
     "output_type": "execute_result"
    }
   ],
   "source": [
    "len(df_inner_1)"
   ]
  },
  {
   "cell_type": "code",
   "execution_count": 49,
   "metadata": {},
   "outputs": [],
   "source": [
    "#10-11"
   ]
  },
  {
   "cell_type": "code",
   "execution_count": 50,
   "metadata": {},
   "outputs": [
    {
     "data": {
      "text/plain": [
       "14"
      ]
     },
     "execution_count": 50,
     "metadata": {},
     "output_type": "execute_result"
    }
   ],
   "source": [
    "len(df2[df2['Class Year'] != 'SR'])"
   ]
  },
  {
   "cell_type": "code",
   "execution_count": 52,
   "metadata": {},
   "outputs": [
    {
     "data": {
      "text/plain": [
       "12"
      ]
     },
     "execution_count": 52,
     "metadata": {},
     "output_type": "execute_result"
    }
   ],
   "source": [
    "len(df_inner_2)"
   ]
  },
  {
   "cell_type": "code",
   "execution_count": 51,
   "metadata": {},
   "outputs": [],
   "source": [
    "#11-12"
   ]
  },
  {
   "cell_type": "code",
   "execution_count": 54,
   "metadata": {},
   "outputs": [
    {
     "data": {
      "text/plain": [
       "13"
      ]
     },
     "execution_count": 54,
     "metadata": {},
     "output_type": "execute_result"
    }
   ],
   "source": [
    "len(df3[df3['Class Year'] != 'SR'])"
   ]
  },
  {
   "cell_type": "code",
   "execution_count": 55,
   "metadata": {},
   "outputs": [
    {
     "data": {
      "text/plain": [
       "12"
      ]
     },
     "execution_count": 55,
     "metadata": {},
     "output_type": "execute_result"
    }
   ],
   "source": [
    "len(df_inner_3)"
   ]
  },
  {
   "cell_type": "code",
   "execution_count": null,
   "metadata": {},
   "outputs": [],
   "source": [
    "#12-13"
   ]
  },
  {
   "cell_type": "code",
   "execution_count": 56,
   "metadata": {},
   "outputs": [
    {
     "data": {
      "text/plain": [
       "13"
      ]
     },
     "execution_count": 56,
     "metadata": {},
     "output_type": "execute_result"
    }
   ],
   "source": [
    "len(df4[df4['Class Year'] != 'SR'])"
   ]
  },
  {
   "cell_type": "code",
   "execution_count": 57,
   "metadata": {},
   "outputs": [
    {
     "data": {
      "text/plain": [
       "11"
      ]
     },
     "execution_count": 57,
     "metadata": {},
     "output_type": "execute_result"
    }
   ],
   "source": [
    "len(df_inner_4)"
   ]
  },
  {
   "cell_type": "code",
   "execution_count": 58,
   "metadata": {},
   "outputs": [],
   "source": [
    "#13-14"
   ]
  },
  {
   "cell_type": "code",
   "execution_count": 59,
   "metadata": {},
   "outputs": [
    {
     "data": {
      "text/plain": [
       "10"
      ]
     },
     "execution_count": 59,
     "metadata": {},
     "output_type": "execute_result"
    }
   ],
   "source": [
    "len(df5[df5['Class Year'] != 'SR'])"
   ]
  },
  {
   "cell_type": "code",
   "execution_count": 60,
   "metadata": {},
   "outputs": [
    {
     "data": {
      "text/plain": [
       "10"
      ]
     },
     "execution_count": 60,
     "metadata": {},
     "output_type": "execute_result"
    }
   ],
   "source": [
    "len(df_inner_5)"
   ]
  },
  {
   "cell_type": "code",
   "execution_count": 61,
   "metadata": {},
   "outputs": [],
   "source": [
    "#14-15"
   ]
  },
  {
   "cell_type": "code",
   "execution_count": 62,
   "metadata": {},
   "outputs": [
    {
     "data": {
      "text/plain": [
       "11"
      ]
     },
     "execution_count": 62,
     "metadata": {},
     "output_type": "execute_result"
    }
   ],
   "source": [
    "len(df6[df6['Class Year'] != 'SR'])"
   ]
  },
  {
   "cell_type": "code",
   "execution_count": 63,
   "metadata": {},
   "outputs": [
    {
     "data": {
      "text/plain": [
       "7"
      ]
     },
     "execution_count": 63,
     "metadata": {},
     "output_type": "execute_result"
    }
   ],
   "source": [
    "len(df_inner_6)"
   ]
  },
  {
   "cell_type": "code",
   "execution_count": 64,
   "metadata": {},
   "outputs": [],
   "source": [
    "#15-16"
   ]
  },
  {
   "cell_type": "code",
   "execution_count": 65,
   "metadata": {},
   "outputs": [
    {
     "data": {
      "text/plain": [
       "9"
      ]
     },
     "execution_count": 65,
     "metadata": {},
     "output_type": "execute_result"
    }
   ],
   "source": [
    "len(df7[df7['Class Year'] != 'SR'])"
   ]
  },
  {
   "cell_type": "code",
   "execution_count": 67,
   "metadata": {},
   "outputs": [
    {
     "data": {
      "text/plain": [
       "7"
      ]
     },
     "execution_count": 67,
     "metadata": {},
     "output_type": "execute_result"
    }
   ],
   "source": [
    "len(df_inner_7)"
   ]
  },
  {
   "cell_type": "code",
   "execution_count": null,
   "metadata": {},
   "outputs": [],
   "source": [
    "#16-17"
   ]
  },
  {
   "cell_type": "code",
   "execution_count": 68,
   "metadata": {},
   "outputs": [
    {
     "data": {
      "text/plain": [
       "13"
      ]
     },
     "execution_count": 68,
     "metadata": {},
     "output_type": "execute_result"
    }
   ],
   "source": [
    "len(df8[df8['Class Year'] != 'SR'])"
   ]
  },
  {
   "cell_type": "code",
   "execution_count": 69,
   "metadata": {},
   "outputs": [
    {
     "data": {
      "text/plain": [
       "12"
      ]
     },
     "execution_count": 69,
     "metadata": {},
     "output_type": "execute_result"
    }
   ],
   "source": [
    "len(df_inner_8)"
   ]
  },
  {
   "cell_type": "code",
   "execution_count": 70,
   "metadata": {},
   "outputs": [],
   "source": [
    "#17-18"
   ]
  },
  {
   "cell_type": "code",
   "execution_count": 73,
   "metadata": {},
   "outputs": [
    {
     "data": {
      "text/plain": [
       "15"
      ]
     },
     "execution_count": 73,
     "metadata": {},
     "output_type": "execute_result"
    }
   ],
   "source": [
    "len(df9[df9['Class Year'] != 'SR'])"
   ]
  },
  {
   "cell_type": "code",
   "execution_count": 74,
   "metadata": {},
   "outputs": [
    {
     "data": {
      "text/plain": [
       "11"
      ]
     },
     "execution_count": 74,
     "metadata": {},
     "output_type": "execute_result"
    }
   ],
   "source": [
    "len(df_inner_9)"
   ]
  },
  {
   "cell_type": "code",
   "execution_count": 71,
   "metadata": {},
   "outputs": [],
   "source": [
    "#18-19"
   ]
  },
  {
   "cell_type": "code",
   "execution_count": 75,
   "metadata": {},
   "outputs": [
    {
     "data": {
      "text/plain": [
       "12"
      ]
     },
     "execution_count": 75,
     "metadata": {},
     "output_type": "execute_result"
    }
   ],
   "source": [
    "len(df10[df10['Class Year'] != 'SR'])"
   ]
  },
  {
   "cell_type": "code",
   "execution_count": 76,
   "metadata": {},
   "outputs": [
    {
     "data": {
      "text/plain": [
       "8"
      ]
     },
     "execution_count": 76,
     "metadata": {},
     "output_type": "execute_result"
    }
   ],
   "source": [
    "len(df_inner_10)"
   ]
  },
  {
   "cell_type": "code",
   "execution_count": 72,
   "metadata": {},
   "outputs": [],
   "source": [
    "#Outer  — who is leaving? "
   ]
  },
  {
   "cell_type": "code",
   "execution_count": 83,
   "metadata": {},
   "outputs": [],
   "source": [
    "df1_outer = df1[df1['Class Year'] != 'SR'][~df1[df1['Class Year'] != 'SR']['Name'].isin(df_inner_1['Name'])].dropna()"
   ]
  },
  {
   "cell_type": "code",
   "execution_count": 85,
   "metadata": {},
   "outputs": [],
   "source": [
    "df2_outer = df2[df2['Class Year'] != 'SR'][~df2[df2['Class Year'] != 'SR']['Name'].isin(df_inner_2['Name'])].dropna()"
   ]
  },
  {
   "cell_type": "code",
   "execution_count": 86,
   "metadata": {},
   "outputs": [],
   "source": [
    "df3_outer = df3[df3['Class Year'] != 'SR'][~df3[df3['Class Year'] != 'SR']['Name'].isin(df_inner_3['Name'])].dropna()"
   ]
  },
  {
   "cell_type": "code",
   "execution_count": 87,
   "metadata": {},
   "outputs": [],
   "source": [
    "df4_outer = df4[df4['Class Year'] != 'SR'][~df4[df4['Class Year'] != 'SR']['Name'].isin(df_inner_4['Name'])].dropna()"
   ]
  },
  {
   "cell_type": "code",
   "execution_count": 88,
   "metadata": {},
   "outputs": [],
   "source": [
    "df5_outer = df5[df5['Class Year'] != 'SR'][~df5[df5['Class Year'] != 'SR']['Name'].isin(df_inner_5['Name'])].dropna()"
   ]
  },
  {
   "cell_type": "code",
   "execution_count": 89,
   "metadata": {},
   "outputs": [],
   "source": [
    "df6_outer  = df6[df6['Class Year'] != 'SR'][~df6[df6['Class Year'] != 'SR']['Name'].isin(df_inner_6['Name'])].dropna()"
   ]
  },
  {
   "cell_type": "code",
   "execution_count": 107,
   "metadata": {},
   "outputs": [
    {
     "data": {
      "text/html": [
       "<div>\n",
       "<style scoped>\n",
       "    .dataframe tbody tr th:only-of-type {\n",
       "        vertical-align: middle;\n",
       "    }\n",
       "\n",
       "    .dataframe tbody tr th {\n",
       "        vertical-align: top;\n",
       "    }\n",
       "\n",
       "    .dataframe thead th {\n",
       "        text-align: right;\n",
       "    }\n",
       "</style>\n",
       "<table border=\"1\" class=\"dataframe\">\n",
       "  <thead>\n",
       "    <tr style=\"text-align: right;\">\n",
       "      <th></th>\n",
       "      <th>Position</th>\n",
       "      <th>Height</th>\n",
       "      <th>Number</th>\n",
       "      <th>Name</th>\n",
       "      <th>Hometown</th>\n",
       "      <th>School</th>\n",
       "      <th>Roster</th>\n",
       "      <th>Team</th>\n",
       "      <th>Class Year</th>\n",
       "    </tr>\n",
       "  </thead>\n",
       "  <tbody>\n",
       "    <tr>\n",
       "      <td>72</td>\n",
       "      <td>FORWARD</td>\n",
       "      <td>5'10\"</td>\n",
       "      <td>2</td>\n",
       "      <td>SAVANNAH JOHNSON</td>\n",
       "      <td>FORT WASHINGTON, MD</td>\n",
       "      <td>ELIZABETH SETON</td>\n",
       "      <td>2014-15</td>\n",
       "      <td>Women's Basketball</td>\n",
       "      <td>FR</td>\n",
       "    </tr>\n",
       "    <tr>\n",
       "      <td>73</td>\n",
       "      <td>GUARD</td>\n",
       "      <td>5'7\"</td>\n",
       "      <td>5</td>\n",
       "      <td>KJ VELDMAN</td>\n",
       "      <td>SPIRIT LAKE, IA</td>\n",
       "      <td>SPIRIT LAKE</td>\n",
       "      <td>2014-15</td>\n",
       "      <td>Women's Basketball</td>\n",
       "      <td>SO</td>\n",
       "    </tr>\n",
       "    <tr>\n",
       "      <td>74</td>\n",
       "      <td>GUARD</td>\n",
       "      <td>5'10\"</td>\n",
       "      <td>11</td>\n",
       "      <td>EMILY DINGER</td>\n",
       "      <td>SUNNYVALE, CA</td>\n",
       "      <td>ARCHBISHOP MITTY</td>\n",
       "      <td>2014-15</td>\n",
       "      <td>Women's Basketball</td>\n",
       "      <td>SO</td>\n",
       "    </tr>\n",
       "    <tr>\n",
       "      <td>83</td>\n",
       "      <td>FORWARD</td>\n",
       "      <td>6'2\"</td>\n",
       "      <td>30</td>\n",
       "      <td>MAXINE OFFIAELI</td>\n",
       "      <td>SOUTH WINDSOR, CT</td>\n",
       "      <td>LOOMIS CHAFFEE</td>\n",
       "      <td>2014-15</td>\n",
       "      <td>Women's Basketball</td>\n",
       "      <td>FR</td>\n",
       "    </tr>\n",
       "  </tbody>\n",
       "</table>\n",
       "</div>"
      ],
      "text/plain": [
       "   Position Height  Number              Name              Hometown  \\\n",
       "72  FORWARD  5'10\"       2  SAVANNAH JOHNSON  FORT WASHINGTON, MD    \n",
       "73    GUARD   5'7\"       5        KJ VELDMAN      SPIRIT LAKE, IA    \n",
       "74    GUARD  5'10\"      11      EMILY DINGER        SUNNYVALE, CA    \n",
       "83  FORWARD   6'2\"      30   MAXINE OFFIAELI    SOUTH WINDSOR, CT    \n",
       "\n",
       "              School   Roster                  Team Class Year  \n",
       "72   ELIZABETH SETON  2014-15   Women's Basketball          FR  \n",
       "73       SPIRIT LAKE  2014-15   Women's Basketball          SO  \n",
       "74  ARCHBISHOP MITTY  2014-15   Women's Basketball          SO  \n",
       "83    LOOMIS CHAFFEE  2014-15   Women's Basketball          FR  "
      ]
     },
     "execution_count": 107,
     "metadata": {},
     "output_type": "execute_result"
    }
   ],
   "source": [
    "df6_outer"
   ]
  },
  {
   "cell_type": "code",
   "execution_count": 105,
   "metadata": {},
   "outputs": [
    {
     "data": {
      "text/html": [
       "<div>\n",
       "<style scoped>\n",
       "    .dataframe tbody tr th:only-of-type {\n",
       "        vertical-align: middle;\n",
       "    }\n",
       "\n",
       "    .dataframe tbody tr th {\n",
       "        vertical-align: top;\n",
       "    }\n",
       "\n",
       "    .dataframe thead th {\n",
       "        text-align: right;\n",
       "    }\n",
       "</style>\n",
       "<table border=\"1\" class=\"dataframe\">\n",
       "  <thead>\n",
       "    <tr style=\"text-align: right;\">\n",
       "      <th></th>\n",
       "      <th>Position</th>\n",
       "      <th>Height</th>\n",
       "      <th>Number</th>\n",
       "      <th>Name</th>\n",
       "      <th>Hometown</th>\n",
       "      <th>School</th>\n",
       "      <th>Roster</th>\n",
       "      <th>Team</th>\n",
       "      <th>Class Year</th>\n",
       "    </tr>\n",
       "  </thead>\n",
       "  <tbody>\n",
       "    <tr>\n",
       "      <td>71</td>\n",
       "      <td>GUARD</td>\n",
       "      <td>5'7\"</td>\n",
       "      <td>1</td>\n",
       "      <td>MEGAN REILLY</td>\n",
       "      <td>NORWOOD, NJ</td>\n",
       "      <td>THE LAWRENCEVILLE SCHOOL</td>\n",
       "      <td>2014-15</td>\n",
       "      <td>Women's Basketball</td>\n",
       "      <td>FR</td>\n",
       "    </tr>\n",
       "    <tr>\n",
       "      <td>72</td>\n",
       "      <td>FORWARD</td>\n",
       "      <td>5'10\"</td>\n",
       "      <td>2</td>\n",
       "      <td>SAVANNAH JOHNSON</td>\n",
       "      <td>FORT WASHINGTON, MD</td>\n",
       "      <td>ELIZABETH SETON</td>\n",
       "      <td>2014-15</td>\n",
       "      <td>Women's Basketball</td>\n",
       "      <td>FR</td>\n",
       "    </tr>\n",
       "    <tr>\n",
       "      <td>73</td>\n",
       "      <td>GUARD</td>\n",
       "      <td>5'7\"</td>\n",
       "      <td>5</td>\n",
       "      <td>KJ VELDMAN</td>\n",
       "      <td>SPIRIT LAKE, IA</td>\n",
       "      <td>SPIRIT LAKE</td>\n",
       "      <td>2014-15</td>\n",
       "      <td>Women's Basketball</td>\n",
       "      <td>SO</td>\n",
       "    </tr>\n",
       "    <tr>\n",
       "      <td>74</td>\n",
       "      <td>GUARD</td>\n",
       "      <td>5'10\"</td>\n",
       "      <td>11</td>\n",
       "      <td>EMILY DINGER</td>\n",
       "      <td>SUNNYVALE, CA</td>\n",
       "      <td>ARCHBISHOP MITTY</td>\n",
       "      <td>2014-15</td>\n",
       "      <td>Women's Basketball</td>\n",
       "      <td>SO</td>\n",
       "    </tr>\n",
       "    <tr>\n",
       "      <td>75</td>\n",
       "      <td>GUARD</td>\n",
       "      <td>5'9\"</td>\n",
       "      <td>12</td>\n",
       "      <td>REBECCA MUSGROVE</td>\n",
       "      <td>PLAINVIEW, NY</td>\n",
       "      <td>ST. ANTHONY'S</td>\n",
       "      <td>2014-15</td>\n",
       "      <td>Women's Basketball</td>\n",
       "      <td>SO</td>\n",
       "    </tr>\n",
       "    <tr>\n",
       "      <td>76</td>\n",
       "      <td>GUARD</td>\n",
       "      <td>5'10\"</td>\n",
       "      <td>13</td>\n",
       "      <td>JORDIN ALEXANDER</td>\n",
       "      <td>FISHERS, IN</td>\n",
       "      <td>HAMILTON SOUTHEASTERN</td>\n",
       "      <td>2014-15</td>\n",
       "      <td>Women's Basketball</td>\n",
       "      <td>JR</td>\n",
       "    </tr>\n",
       "    <tr>\n",
       "      <td>79</td>\n",
       "      <td>GUARD</td>\n",
       "      <td>5'10\"</td>\n",
       "      <td>20</td>\n",
       "      <td>ELLISE SHARPE</td>\n",
       "      <td>TIPP CITY, OH</td>\n",
       "      <td>TIPPECANOE HIGH SCHOOL</td>\n",
       "      <td>2014-15</td>\n",
       "      <td>Women's Basketball</td>\n",
       "      <td>JR</td>\n",
       "    </tr>\n",
       "    <tr>\n",
       "      <td>80</td>\n",
       "      <td>FORWARD</td>\n",
       "      <td>6'2\"</td>\n",
       "      <td>21</td>\n",
       "      <td>JANIE WHITE</td>\n",
       "      <td>CLARKSVILLE, TN</td>\n",
       "      <td>ROSSVIEW</td>\n",
       "      <td>2014-15</td>\n",
       "      <td>Women's Basketball</td>\n",
       "      <td>FR</td>\n",
       "    </tr>\n",
       "    <tr>\n",
       "      <td>83</td>\n",
       "      <td>FORWARD</td>\n",
       "      <td>6'2\"</td>\n",
       "      <td>30</td>\n",
       "      <td>MAXINE OFFIAELI</td>\n",
       "      <td>SOUTH WINDSOR, CT</td>\n",
       "      <td>LOOMIS CHAFFEE</td>\n",
       "      <td>2014-15</td>\n",
       "      <td>Women's Basketball</td>\n",
       "      <td>FR</td>\n",
       "    </tr>\n",
       "    <tr>\n",
       "      <td>84</td>\n",
       "      <td>FORWARD</td>\n",
       "      <td>6'0\"</td>\n",
       "      <td>32</td>\n",
       "      <td>KENNEDY MARTIN</td>\n",
       "      <td>LOS ANGELES, CA</td>\n",
       "      <td>BRENTWOOD SCHOOL</td>\n",
       "      <td>2014-15</td>\n",
       "      <td>Women's Basketball</td>\n",
       "      <td>FR</td>\n",
       "    </tr>\n",
       "    <tr>\n",
       "      <td>85</td>\n",
       "      <td>FORWARD</td>\n",
       "      <td>5'11\"</td>\n",
       "      <td>34</td>\n",
       "      <td>NATALIE BALL</td>\n",
       "      <td>ORLANDO, FL</td>\n",
       "      <td>TRINITY PREPARATORY</td>\n",
       "      <td>2014-15</td>\n",
       "      <td>Women's Basketball</td>\n",
       "      <td>JR</td>\n",
       "    </tr>\n",
       "  </tbody>\n",
       "</table>\n",
       "</div>"
      ],
      "text/plain": [
       "   Position Height  Number              Name              Hometown  \\\n",
       "71    GUARD   5'7\"       1      MEGAN REILLY          NORWOOD, NJ    \n",
       "72  FORWARD  5'10\"       2  SAVANNAH JOHNSON  FORT WASHINGTON, MD    \n",
       "73    GUARD   5'7\"       5        KJ VELDMAN      SPIRIT LAKE, IA    \n",
       "74    GUARD  5'10\"      11      EMILY DINGER        SUNNYVALE, CA    \n",
       "75    GUARD   5'9\"      12  REBECCA MUSGROVE        PLAINVIEW, NY    \n",
       "76    GUARD  5'10\"      13  JORDIN ALEXANDER          FISHERS, IN    \n",
       "79    GUARD  5'10\"      20     ELLISE SHARPE        TIPP CITY, OH    \n",
       "80  FORWARD   6'2\"      21       JANIE WHITE      CLARKSVILLE, TN    \n",
       "83  FORWARD   6'2\"      30   MAXINE OFFIAELI    SOUTH WINDSOR, CT    \n",
       "84  FORWARD   6'0\"      32    KENNEDY MARTIN      LOS ANGELES, CA    \n",
       "85  FORWARD  5'11\"      34      NATALIE BALL          ORLANDO, FL    \n",
       "\n",
       "                      School   Roster                  Team Class Year  \n",
       "71  THE LAWRENCEVILLE SCHOOL  2014-15   Women's Basketball          FR  \n",
       "72           ELIZABETH SETON  2014-15   Women's Basketball          FR  \n",
       "73               SPIRIT LAKE  2014-15   Women's Basketball          SO  \n",
       "74          ARCHBISHOP MITTY  2014-15   Women's Basketball          SO  \n",
       "75             ST. ANTHONY'S  2014-15   Women's Basketball          SO  \n",
       "76     HAMILTON SOUTHEASTERN  2014-15   Women's Basketball          JR  \n",
       "79    TIPPECANOE HIGH SCHOOL  2014-15   Women's Basketball          JR  \n",
       "80                  ROSSVIEW  2014-15   Women's Basketball          FR  \n",
       "83            LOOMIS CHAFFEE  2014-15   Women's Basketball          FR  \n",
       "84          BRENTWOOD SCHOOL  2014-15   Women's Basketball          FR  \n",
       "85       TRINITY PREPARATORY  2014-15   Women's Basketball          JR  "
      ]
     },
     "execution_count": 105,
     "metadata": {},
     "output_type": "execute_result"
    }
   ],
   "source": [
    "df6[df6['Class Year'] != 'SR']"
   ]
  },
  {
   "cell_type": "code",
   "execution_count": 106,
   "metadata": {},
   "outputs": [
    {
     "data": {
      "text/html": [
       "<div>\n",
       "<style scoped>\n",
       "    .dataframe tbody tr th:only-of-type {\n",
       "        vertical-align: middle;\n",
       "    }\n",
       "\n",
       "    .dataframe tbody tr th {\n",
       "        vertical-align: top;\n",
       "    }\n",
       "\n",
       "    .dataframe thead th {\n",
       "        text-align: right;\n",
       "    }\n",
       "</style>\n",
       "<table border=\"1\" class=\"dataframe\">\n",
       "  <thead>\n",
       "    <tr style=\"text-align: right;\">\n",
       "      <th></th>\n",
       "      <th>Name</th>\n",
       "    </tr>\n",
       "  </thead>\n",
       "  <tbody>\n",
       "    <tr>\n",
       "      <td>0</td>\n",
       "      <td>MEGAN REILLY</td>\n",
       "    </tr>\n",
       "    <tr>\n",
       "      <td>1</td>\n",
       "      <td>REBECCA MUSGROVE</td>\n",
       "    </tr>\n",
       "    <tr>\n",
       "      <td>2</td>\n",
       "      <td>JORDIN ALEXANDER</td>\n",
       "    </tr>\n",
       "    <tr>\n",
       "      <td>3</td>\n",
       "      <td>ELLISE SHARPE</td>\n",
       "    </tr>\n",
       "    <tr>\n",
       "      <td>4</td>\n",
       "      <td>JANIE WHITE</td>\n",
       "    </tr>\n",
       "    <tr>\n",
       "      <td>5</td>\n",
       "      <td>KENNEDY MARTIN</td>\n",
       "    </tr>\n",
       "    <tr>\n",
       "      <td>6</td>\n",
       "      <td>NATALIE BALL</td>\n",
       "    </tr>\n",
       "  </tbody>\n",
       "</table>\n",
       "</div>"
      ],
      "text/plain": [
       "               Name\n",
       "0      MEGAN REILLY\n",
       "1  REBECCA MUSGROVE\n",
       "2  JORDIN ALEXANDER\n",
       "3     ELLISE SHARPE\n",
       "4       JANIE WHITE\n",
       "5    KENNEDY MARTIN\n",
       "6      NATALIE BALL"
      ]
     },
     "execution_count": 106,
     "metadata": {},
     "output_type": "execute_result"
    }
   ],
   "source": [
    "df_inner_6"
   ]
  },
  {
   "cell_type": "code",
   "execution_count": 90,
   "metadata": {},
   "outputs": [],
   "source": [
    "df7_outer = df7[df7['Class Year'] != 'SR'][~df7[df7['Class Year'] != 'SR']['Name'].isin(df_inner_7['Name'])].dropna()"
   ]
  },
  {
   "cell_type": "code",
   "execution_count": 91,
   "metadata": {},
   "outputs": [],
   "source": [
    "df8_outer = df8[df8['Class Year'] != 'SR'][~df8[df8['Class Year'] != 'SR']['Name'].isin(df_inner_8['Name'])].dropna()"
   ]
  },
  {
   "cell_type": "code",
   "execution_count": 92,
   "metadata": {},
   "outputs": [],
   "source": [
    "df9_outer = df9[df9['Class Year'] != 'SR'][~df9[df9['Class Year'] != 'SR']['Name'].isin(df_inner_9['Name'])].dropna()"
   ]
  },
  {
   "cell_type": "code",
   "execution_count": 93,
   "metadata": {},
   "outputs": [],
   "source": [
    "df10_outer = df10[df10['Class Year'] != 'SR'][~df10[df10['Class Year'] != 'SR']['Name'].isin(df_inner_10['Name'])].dropna()"
   ]
  },
  {
   "cell_type": "code",
   "execution_count": 94,
   "metadata": {},
   "outputs": [],
   "source": [
    "df_left_team = df1_outer.append([df2_outer, df3_outer, df4_outer, df5_outer, df6_outer, df7_outer, df8_outer, df9_outer, df10_outer])"
   ]
  },
  {
   "cell_type": "code",
   "execution_count": 95,
   "metadata": {},
   "outputs": [],
   "source": [
    "df_left_team.to_csv('women_left_team.csv', index=False)"
   ]
  },
  {
   "cell_type": "code",
   "execution_count": 96,
   "metadata": {},
   "outputs": [],
   "source": [
    "df_left = pd.read_csv('women_left_team.csv')"
   ]
  },
  {
   "cell_type": "code",
   "execution_count": 97,
   "metadata": {},
   "outputs": [
    {
     "data": {
      "text/html": [
       "<div>\n",
       "<style scoped>\n",
       "    .dataframe tbody tr th:only-of-type {\n",
       "        vertical-align: middle;\n",
       "    }\n",
       "\n",
       "    .dataframe tbody tr th {\n",
       "        vertical-align: top;\n",
       "    }\n",
       "\n",
       "    .dataframe thead th {\n",
       "        text-align: right;\n",
       "    }\n",
       "</style>\n",
       "<table border=\"1\" class=\"dataframe\">\n",
       "  <thead>\n",
       "    <tr style=\"text-align: right;\">\n",
       "      <th></th>\n",
       "      <th>Position</th>\n",
       "      <th>Height</th>\n",
       "      <th>Number</th>\n",
       "      <th>Name</th>\n",
       "      <th>Hometown</th>\n",
       "      <th>School</th>\n",
       "      <th>Roster</th>\n",
       "      <th>Team</th>\n",
       "      <th>Class Year</th>\n",
       "    </tr>\n",
       "  </thead>\n",
       "  <tbody>\n",
       "    <tr>\n",
       "      <td>0</td>\n",
       "      <td>FORWARD</td>\n",
       "      <td>6'0\"</td>\n",
       "      <td>4</td>\n",
       "      <td>BETSY JACOBSON</td>\n",
       "      <td>ROCHESTER, NY</td>\n",
       "      <td>OUR LADY OF MERCY</td>\n",
       "      <td>2009-10</td>\n",
       "      <td>Women's Basketball</td>\n",
       "      <td>JR</td>\n",
       "    </tr>\n",
       "    <tr>\n",
       "      <td>1</td>\n",
       "      <td>GUARD</td>\n",
       "      <td>5'10\"</td>\n",
       "      <td>12</td>\n",
       "      <td>SADIEA WILLIAMS</td>\n",
       "      <td>LUNENBURG, MA</td>\n",
       "      <td>LUNENBURG</td>\n",
       "      <td>2009-10</td>\n",
       "      <td>Women's Basketball</td>\n",
       "      <td>RS</td>\n",
       "    </tr>\n",
       "    <tr>\n",
       "      <td>2</td>\n",
       "      <td>GUARD</td>\n",
       "      <td>5'7\"</td>\n",
       "      <td>14</td>\n",
       "      <td>CHRISTINA JOHNSON</td>\n",
       "      <td>OAKLAND, CA</td>\n",
       "      <td>ST. MARY'S</td>\n",
       "      <td>2009-10</td>\n",
       "      <td>Women's Basketball</td>\n",
       "      <td>RS</td>\n",
       "    </tr>\n",
       "    <tr>\n",
       "      <td>3</td>\n",
       "      <td>GUARD</td>\n",
       "      <td>5'8\"</td>\n",
       "      <td>15</td>\n",
       "      <td>COURTNEY LEE</td>\n",
       "      <td>ARCHER, FL</td>\n",
       "      <td>OAK HALL</td>\n",
       "      <td>2009-10</td>\n",
       "      <td>Women's Basketball</td>\n",
       "      <td>RS</td>\n",
       "    </tr>\n",
       "    <tr>\n",
       "      <td>4</td>\n",
       "      <td>GUARD/FORWARD</td>\n",
       "      <td>6'1\"</td>\n",
       "      <td>21</td>\n",
       "      <td>ALYSSA BLOOD</td>\n",
       "      <td>ENGLAND</td>\n",
       "      <td>THE AMERICAN SCHOOL</td>\n",
       "      <td>2009-10</td>\n",
       "      <td>Women's Basketball</td>\n",
       "      <td>JR</td>\n",
       "    </tr>\n",
       "    <tr>\n",
       "      <td>5</td>\n",
       "      <td>GUARD/FORWARD</td>\n",
       "      <td>6'0\"</td>\n",
       "      <td>32</td>\n",
       "      <td>SARAH DELK</td>\n",
       "      <td>ATLANTA, GA</td>\n",
       "      <td>WESLEYAN SCHOOL</td>\n",
       "      <td>2009-10</td>\n",
       "      <td>Women's Basketball</td>\n",
       "      <td>RS</td>\n",
       "    </tr>\n",
       "    <tr>\n",
       "      <td>6</td>\n",
       "      <td>FORWARD/GUARD</td>\n",
       "      <td>6'1\"</td>\n",
       "      <td>42</td>\n",
       "      <td>TAYLOR MASASCHI</td>\n",
       "      <td>CHATHAM, MA</td>\n",
       "      <td>CHATHAM</td>\n",
       "      <td>2009-10</td>\n",
       "      <td>Women's Basketball</td>\n",
       "      <td>RS</td>\n",
       "    </tr>\n",
       "    <tr>\n",
       "      <td>7</td>\n",
       "      <td>GUARD</td>\n",
       "      <td>5'6\"</td>\n",
       "      <td>22</td>\n",
       "      <td>LAURA KOBASHIGAWA</td>\n",
       "      <td>PLAYA DEL REY, CA</td>\n",
       "      <td>BRENTWOOD</td>\n",
       "      <td>2010-11</td>\n",
       "      <td>Women's Basketball</td>\n",
       "      <td>FR</td>\n",
       "    </tr>\n",
       "    <tr>\n",
       "      <td>8</td>\n",
       "      <td>GUARD</td>\n",
       "      <td>5'10\"</td>\n",
       "      <td>25</td>\n",
       "      <td>LINDSAY STEELE</td>\n",
       "      <td>ERIAL, NJ</td>\n",
       "      <td>TIMBER CREEK</td>\n",
       "      <td>2010-11</td>\n",
       "      <td>Women's Basketball</td>\n",
       "      <td>JR</td>\n",
       "    </tr>\n",
       "    <tr>\n",
       "      <td>9</td>\n",
       "      <td>GUARD</td>\n",
       "      <td>5'8\"</td>\n",
       "      <td>11</td>\n",
       "      <td>JACQUELINE SCHONINGER</td>\n",
       "      <td>NEW YORK, NY</td>\n",
       "      <td>FIELDSTON SCHOOL</td>\n",
       "      <td>2011-12</td>\n",
       "      <td>Women's Basketball</td>\n",
       "      <td>SO</td>\n",
       "    </tr>\n",
       "    <tr>\n",
       "      <td>10</td>\n",
       "      <td>FORWARD</td>\n",
       "      <td>6'2\"</td>\n",
       "      <td>13</td>\n",
       "      <td>MADDY PAGE</td>\n",
       "      <td>IRVINE, CA</td>\n",
       "      <td>WOODBRIDGE</td>\n",
       "      <td>2012-13</td>\n",
       "      <td>Women's Basketball</td>\n",
       "      <td>SO</td>\n",
       "    </tr>\n",
       "    <tr>\n",
       "      <td>11</td>\n",
       "      <td>GUARD/FORWARD</td>\n",
       "      <td>5'11\"</td>\n",
       "      <td>21</td>\n",
       "      <td>MAGGIE SMITH</td>\n",
       "      <td>LILBURN, GA</td>\n",
       "      <td>PARKVIEW HIGH SCHOOL</td>\n",
       "      <td>2012-13</td>\n",
       "      <td>Women's Basketball</td>\n",
       "      <td>JR</td>\n",
       "    </tr>\n",
       "    <tr>\n",
       "      <td>12</td>\n",
       "      <td>FORWARD</td>\n",
       "      <td>5'10\"</td>\n",
       "      <td>2</td>\n",
       "      <td>SAVANNAH JOHNSON</td>\n",
       "      <td>FORT WASHINGTON, MD</td>\n",
       "      <td>ELIZABETH SETON</td>\n",
       "      <td>2014-15</td>\n",
       "      <td>Women's Basketball</td>\n",
       "      <td>FR</td>\n",
       "    </tr>\n",
       "    <tr>\n",
       "      <td>13</td>\n",
       "      <td>GUARD</td>\n",
       "      <td>5'7\"</td>\n",
       "      <td>5</td>\n",
       "      <td>KJ VELDMAN</td>\n",
       "      <td>SPIRIT LAKE, IA</td>\n",
       "      <td>SPIRIT LAKE</td>\n",
       "      <td>2014-15</td>\n",
       "      <td>Women's Basketball</td>\n",
       "      <td>SO</td>\n",
       "    </tr>\n",
       "    <tr>\n",
       "      <td>14</td>\n",
       "      <td>GUARD</td>\n",
       "      <td>5'10\"</td>\n",
       "      <td>11</td>\n",
       "      <td>EMILY DINGER</td>\n",
       "      <td>SUNNYVALE, CA</td>\n",
       "      <td>ARCHBISHOP MITTY</td>\n",
       "      <td>2014-15</td>\n",
       "      <td>Women's Basketball</td>\n",
       "      <td>SO</td>\n",
       "    </tr>\n",
       "    <tr>\n",
       "      <td>15</td>\n",
       "      <td>FORWARD</td>\n",
       "      <td>6'2\"</td>\n",
       "      <td>30</td>\n",
       "      <td>MAXINE OFFIAELI</td>\n",
       "      <td>SOUTH WINDSOR, CT</td>\n",
       "      <td>LOOMIS CHAFFEE</td>\n",
       "      <td>2014-15</td>\n",
       "      <td>Women's Basketball</td>\n",
       "      <td>FR</td>\n",
       "    </tr>\n",
       "    <tr>\n",
       "      <td>16</td>\n",
       "      <td>GUARD</td>\n",
       "      <td>5'9\"</td>\n",
       "      <td>12</td>\n",
       "      <td>REBECCA MUSGROVE</td>\n",
       "      <td>PLAINVIEW, N.Y.</td>\n",
       "      <td>ST. ANTHONY'S</td>\n",
       "      <td>2015-16</td>\n",
       "      <td>Women's Basketball</td>\n",
       "      <td>JR</td>\n",
       "    </tr>\n",
       "    <tr>\n",
       "      <td>17</td>\n",
       "      <td>FORWARD</td>\n",
       "      <td>6'0\"</td>\n",
       "      <td>32</td>\n",
       "      <td>KENNEDY MARTIN</td>\n",
       "      <td>LOS ANGELES, CALIF.</td>\n",
       "      <td>BRENTWOOD SCHOOL</td>\n",
       "      <td>2015-16</td>\n",
       "      <td>Women's Basketball</td>\n",
       "      <td>SO</td>\n",
       "    </tr>\n",
       "    <tr>\n",
       "      <td>18</td>\n",
       "      <td>GUARD</td>\n",
       "      <td>5'8\"</td>\n",
       "      <td>33</td>\n",
       "      <td>ABBY O'KEEFE</td>\n",
       "      <td>ST. LOUIS, MO.</td>\n",
       "      <td>WORCESTER</td>\n",
       "      <td>2016-17</td>\n",
       "      <td>Women's Basketball</td>\n",
       "      <td>FR</td>\n",
       "    </tr>\n",
       "    <tr>\n",
       "      <td>19</td>\n",
       "      <td>FORWARD</td>\n",
       "      <td>6'2\"</td>\n",
       "      <td>23</td>\n",
       "      <td>MELISSA HEATH</td>\n",
       "      <td>HO-HO-</td>\n",
       "      <td>KUS, N.J. NORTHERN HIGHLANDS REGIONAL</td>\n",
       "      <td>2017-18</td>\n",
       "      <td>Women's Basketball</td>\n",
       "      <td>JR</td>\n",
       "    </tr>\n",
       "    <tr>\n",
       "      <td>20</td>\n",
       "      <td>FORWARD</td>\n",
       "      <td>6'2\"</td>\n",
       "      <td>25</td>\n",
       "      <td>KATHLEEN RYAN</td>\n",
       "      <td>CLARENCE CENTER, N.Y.</td>\n",
       "      <td>BUFFALO ACADEMY OF THE SACRED HEART</td>\n",
       "      <td>2017-18</td>\n",
       "      <td>Women's Basketball</td>\n",
       "      <td>SO</td>\n",
       "    </tr>\n",
       "    <tr>\n",
       "      <td>21</td>\n",
       "      <td>CENTER</td>\n",
       "      <td>6'5\"</td>\n",
       "      <td>34</td>\n",
       "      <td>JENNA BENZINGER</td>\n",
       "      <td>WILLIAMSTOWN, MASS.</td>\n",
       "      <td>MT. GREYLOCK REGIONAL</td>\n",
       "      <td>2017-18</td>\n",
       "      <td>Women's Basketball</td>\n",
       "      <td>FR</td>\n",
       "    </tr>\n",
       "    <tr>\n",
       "      <td>22</td>\n",
       "      <td>CENTER</td>\n",
       "      <td>6'2\"</td>\n",
       "      <td>40</td>\n",
       "      <td>LAMES ELGAMMAL</td>\n",
       "      <td>BALDWIN, N.Y.</td>\n",
       "      <td>BALDWIN</td>\n",
       "      <td>2017-18</td>\n",
       "      <td>Women's Basketball</td>\n",
       "      <td>SO</td>\n",
       "    </tr>\n",
       "    <tr>\n",
       "      <td>23</td>\n",
       "      <td>GUARD</td>\n",
       "      <td>5'8\"</td>\n",
       "      <td>2</td>\n",
       "      <td>NINA MEHTA</td>\n",
       "      <td>SAN FRANCISCO, CALIF.</td>\n",
       "      <td>INTERNATIONAL</td>\n",
       "      <td>2018-19</td>\n",
       "      <td>Women's Basketball</td>\n",
       "      <td>FR</td>\n",
       "    </tr>\n",
       "    <tr>\n",
       "      <td>24</td>\n",
       "      <td>FORWARD</td>\n",
       "      <td>6'0\"</td>\n",
       "      <td>5</td>\n",
       "      <td>MORGAN CLAUSEN</td>\n",
       "      <td>ALGONQUIN, ILL.</td>\n",
       "      <td>HUNTLEY</td>\n",
       "      <td>2018-19</td>\n",
       "      <td>Women's Basketball</td>\n",
       "      <td>SO</td>\n",
       "    </tr>\n",
       "    <tr>\n",
       "      <td>25</td>\n",
       "      <td>FORWARD</td>\n",
       "      <td>6'0\"</td>\n",
       "      <td>11</td>\n",
       "      <td>SAVANNAH LEWIS</td>\n",
       "      <td>WESTLAKE VILLAGE, CALIF.</td>\n",
       "      <td>SIERRA CANYON</td>\n",
       "      <td>2018-19</td>\n",
       "      <td>Women's Basketball</td>\n",
       "      <td>SO</td>\n",
       "    </tr>\n",
       "    <tr>\n",
       "      <td>26</td>\n",
       "      <td>GUARD</td>\n",
       "      <td>5'5\"</td>\n",
       "      <td>22</td>\n",
       "      <td>RANDI RICHARDSON</td>\n",
       "      <td>FLINT, MICH.</td>\n",
       "      <td>CARMAN-AINSWORTH</td>\n",
       "      <td>2018-19</td>\n",
       "      <td>Women's Basketball</td>\n",
       "      <td>JR</td>\n",
       "    </tr>\n",
       "  </tbody>\n",
       "</table>\n",
       "</div>"
      ],
      "text/plain": [
       "         Position Height  Number                   Name  \\\n",
       "0         FORWARD   6'0\"       4         BETSY JACOBSON   \n",
       "1           GUARD  5'10\"      12        SADIEA WILLIAMS   \n",
       "2           GUARD   5'7\"      14      CHRISTINA JOHNSON   \n",
       "3           GUARD   5'8\"      15           COURTNEY LEE   \n",
       "4   GUARD/FORWARD   6'1\"      21           ALYSSA BLOOD   \n",
       "5   GUARD/FORWARD   6'0\"      32             SARAH DELK   \n",
       "6   FORWARD/GUARD   6'1\"      42        TAYLOR MASASCHI   \n",
       "7           GUARD   5'6\"      22      LAURA KOBASHIGAWA   \n",
       "8           GUARD  5'10\"      25         LINDSAY STEELE   \n",
       "9           GUARD   5'8\"      11  JACQUELINE SCHONINGER   \n",
       "10        FORWARD   6'2\"      13             MADDY PAGE   \n",
       "11  GUARD/FORWARD  5'11\"      21           MAGGIE SMITH   \n",
       "12        FORWARD  5'10\"       2       SAVANNAH JOHNSON   \n",
       "13          GUARD   5'7\"       5             KJ VELDMAN   \n",
       "14          GUARD  5'10\"      11           EMILY DINGER   \n",
       "15        FORWARD   6'2\"      30        MAXINE OFFIAELI   \n",
       "16          GUARD   5'9\"      12       REBECCA MUSGROVE   \n",
       "17        FORWARD   6'0\"      32         KENNEDY MARTIN   \n",
       "18          GUARD   5'8\"      33           ABBY O'KEEFE   \n",
       "19        FORWARD   6'2\"      23          MELISSA HEATH   \n",
       "20        FORWARD   6'2\"      25          KATHLEEN RYAN   \n",
       "21         CENTER   6'5\"      34        JENNA BENZINGER   \n",
       "22         CENTER   6'2\"      40         LAMES ELGAMMAL   \n",
       "23          GUARD   5'8\"       2             NINA MEHTA   \n",
       "24        FORWARD   6'0\"       5         MORGAN CLAUSEN   \n",
       "25        FORWARD   6'0\"      11         SAVANNAH LEWIS   \n",
       "26          GUARD   5'5\"      22       RANDI RICHARDSON   \n",
       "\n",
       "                    Hometown                                 School   Roster  \\\n",
       "0             ROCHESTER, NY                       OUR LADY OF MERCY  2009-10   \n",
       "1             LUNENBURG, MA                               LUNENBURG  2009-10   \n",
       "2               OAKLAND, CA                              ST. MARY'S  2009-10   \n",
       "3                ARCHER, FL                                OAK HALL  2009-10   \n",
       "4                    ENGLAND                    THE AMERICAN SCHOOL  2009-10   \n",
       "5               ATLANTA, GA                         WESLEYAN SCHOOL  2009-10   \n",
       "6               CHATHAM, MA                                 CHATHAM  2009-10   \n",
       "7         PLAYA DEL REY, CA                               BRENTWOOD  2010-11   \n",
       "8                 ERIAL, NJ                            TIMBER CREEK  2010-11   \n",
       "9              NEW YORK, NY                        FIELDSTON SCHOOL  2011-12   \n",
       "10               IRVINE, CA                              WOODBRIDGE  2012-13   \n",
       "11              LILBURN, GA                    PARKVIEW HIGH SCHOOL  2012-13   \n",
       "12      FORT WASHINGTON, MD                         ELIZABETH SETON  2014-15   \n",
       "13          SPIRIT LAKE, IA                             SPIRIT LAKE  2014-15   \n",
       "14            SUNNYVALE, CA                        ARCHBISHOP MITTY  2014-15   \n",
       "15        SOUTH WINDSOR, CT                          LOOMIS CHAFFEE  2014-15   \n",
       "16           PLAINVIEW, N.Y.                          ST. ANTHONY'S  2015-16   \n",
       "17       LOS ANGELES, CALIF.                       BRENTWOOD SCHOOL  2015-16   \n",
       "18            ST. LOUIS, MO.                              WORCESTER  2016-17   \n",
       "19                    HO-HO-  KUS, N.J. NORTHERN HIGHLANDS REGIONAL  2017-18   \n",
       "20     CLARENCE CENTER, N.Y.    BUFFALO ACADEMY OF THE SACRED HEART  2017-18   \n",
       "21       WILLIAMSTOWN, MASS.                  MT. GREYLOCK REGIONAL  2017-18   \n",
       "22             BALDWIN, N.Y.                                BALDWIN  2017-18   \n",
       "23     SAN FRANCISCO, CALIF.                          INTERNATIONAL  2018-19   \n",
       "24           ALGONQUIN, ILL.                                HUNTLEY  2018-19   \n",
       "25  WESTLAKE VILLAGE, CALIF.                          SIERRA CANYON  2018-19   \n",
       "26              FLINT, MICH.                       CARMAN-AINSWORTH  2018-19   \n",
       "\n",
       "                    Team Class Year  \n",
       "0     Women's Basketball         JR  \n",
       "1     Women's Basketball         RS  \n",
       "2     Women's Basketball         RS  \n",
       "3     Women's Basketball         RS  \n",
       "4     Women's Basketball         JR  \n",
       "5     Women's Basketball         RS  \n",
       "6     Women's Basketball         RS  \n",
       "7    Women's Basketball          FR  \n",
       "8    Women's Basketball          JR  \n",
       "9    Women's Basketball          SO  \n",
       "10   Women's Basketball          SO  \n",
       "11   Women's Basketball          JR  \n",
       "12   Women's Basketball          FR  \n",
       "13   Women's Basketball          SO  \n",
       "14   Women's Basketball          SO  \n",
       "15   Women's Basketball          FR  \n",
       "16   Women's Basketball          JR  \n",
       "17   Women's Basketball          SO  \n",
       "18   Women's Basketball          FR  \n",
       "19   Women's Basketball          JR  \n",
       "20   Women's Basketball          SO  \n",
       "21   Women's Basketball          FR  \n",
       "22   Women's Basketball          SO  \n",
       "23    Women's Basketball         FR  \n",
       "24    Women's Basketball         SO  \n",
       "25    Women's Basketball         SO  \n",
       "26    Women's Basketball         JR  "
      ]
     },
     "execution_count": 97,
     "metadata": {},
     "output_type": "execute_result"
    }
   ],
   "source": [
    "df_left"
   ]
  },
  {
   "cell_type": "code",
   "execution_count": 98,
   "metadata": {},
   "outputs": [],
   "source": [
    "df_retention = pd.read_csv('women_retention_rate.csv')"
   ]
  },
  {
   "cell_type": "code",
   "execution_count": 100,
   "metadata": {},
   "outputs": [],
   "source": [
    "df_retention['rate'] = df_retention['lost']/df_retention['eligible']*100"
   ]
  },
  {
   "cell_type": "code",
   "execution_count": 101,
   "metadata": {},
   "outputs": [
    {
     "data": {
      "text/html": [
       "<div>\n",
       "<style scoped>\n",
       "    .dataframe tbody tr th:only-of-type {\n",
       "        vertical-align: middle;\n",
       "    }\n",
       "\n",
       "    .dataframe tbody tr th {\n",
       "        vertical-align: top;\n",
       "    }\n",
       "\n",
       "    .dataframe thead th {\n",
       "        text-align: right;\n",
       "    }\n",
       "</style>\n",
       "<table border=\"1\" class=\"dataframe\">\n",
       "  <thead>\n",
       "    <tr style=\"text-align: right;\">\n",
       "      <th></th>\n",
       "      <th>period</th>\n",
       "      <th>lost</th>\n",
       "      <th>eligible</th>\n",
       "      <th>rate</th>\n",
       "    </tr>\n",
       "  </thead>\n",
       "  <tbody>\n",
       "    <tr>\n",
       "      <td>0</td>\n",
       "      <td>1</td>\n",
       "      <td>7</td>\n",
       "      <td>14</td>\n",
       "      <td>50.000000</td>\n",
       "    </tr>\n",
       "    <tr>\n",
       "      <td>1</td>\n",
       "      <td>2</td>\n",
       "      <td>2</td>\n",
       "      <td>14</td>\n",
       "      <td>14.285714</td>\n",
       "    </tr>\n",
       "    <tr>\n",
       "      <td>2</td>\n",
       "      <td>3</td>\n",
       "      <td>1</td>\n",
       "      <td>13</td>\n",
       "      <td>7.692308</td>\n",
       "    </tr>\n",
       "    <tr>\n",
       "      <td>3</td>\n",
       "      <td>4</td>\n",
       "      <td>2</td>\n",
       "      <td>13</td>\n",
       "      <td>15.384615</td>\n",
       "    </tr>\n",
       "    <tr>\n",
       "      <td>4</td>\n",
       "      <td>5</td>\n",
       "      <td>0</td>\n",
       "      <td>10</td>\n",
       "      <td>0.000000</td>\n",
       "    </tr>\n",
       "    <tr>\n",
       "      <td>5</td>\n",
       "      <td>6</td>\n",
       "      <td>4</td>\n",
       "      <td>11</td>\n",
       "      <td>36.363636</td>\n",
       "    </tr>\n",
       "    <tr>\n",
       "      <td>6</td>\n",
       "      <td>7</td>\n",
       "      <td>2</td>\n",
       "      <td>9</td>\n",
       "      <td>22.222222</td>\n",
       "    </tr>\n",
       "    <tr>\n",
       "      <td>7</td>\n",
       "      <td>8</td>\n",
       "      <td>1</td>\n",
       "      <td>13</td>\n",
       "      <td>7.692308</td>\n",
       "    </tr>\n",
       "    <tr>\n",
       "      <td>8</td>\n",
       "      <td>9</td>\n",
       "      <td>4</td>\n",
       "      <td>15</td>\n",
       "      <td>26.666667</td>\n",
       "    </tr>\n",
       "    <tr>\n",
       "      <td>9</td>\n",
       "      <td>10</td>\n",
       "      <td>4</td>\n",
       "      <td>12</td>\n",
       "      <td>33.333333</td>\n",
       "    </tr>\n",
       "  </tbody>\n",
       "</table>\n",
       "</div>"
      ],
      "text/plain": [
       "   period  lost  eligible       rate\n",
       "0       1     7        14  50.000000\n",
       "1       2     2        14  14.285714\n",
       "2       3     1        13   7.692308\n",
       "3       4     2        13  15.384615\n",
       "4       5     0        10   0.000000\n",
       "5       6     4        11  36.363636\n",
       "6       7     2         9  22.222222\n",
       "7       8     1        13   7.692308\n",
       "8       9     4        15  26.666667\n",
       "9      10     4        12  33.333333"
      ]
     },
     "execution_count": 101,
     "metadata": {},
     "output_type": "execute_result"
    }
   ],
   "source": [
    "df_retention"
   ]
  },
  {
   "cell_type": "code",
   "execution_count": 102,
   "metadata": {},
   "outputs": [],
   "source": [
    "def count_experience(name):\n",
    "    # a function that counts the number of times a name in the dataframe of players who left appears in the master dataframe of all rosters\n",
    "    name = name\n",
    "    return len(df_women[df_women['Name']==name])\n"
   ]
  },
  {
   "cell_type": "code",
   "execution_count": 103,
   "metadata": {},
   "outputs": [],
   "source": [
    "df_left['experience'] = df_left['Name'].apply(lambda x: count_experience(x))"
   ]
  },
  {
   "cell_type": "code",
   "execution_count": 104,
   "metadata": {},
   "outputs": [
    {
     "data": {
      "text/plain": [
       "1    0.481481\n",
       "2    0.370370\n",
       "3    0.148148\n",
       "Name: experience, dtype: float64"
      ]
     },
     "execution_count": 104,
     "metadata": {},
     "output_type": "execute_result"
    }
   ],
   "source": [
    "df_left['experience'].value_counts(normalize=True)"
   ]
  },
  {
   "cell_type": "code",
   "execution_count": null,
   "metadata": {},
   "outputs": [],
   "source": [
    "#like in the case of men, the majority of people who quit have been on the team for only one year"
   ]
  }
 ],
 "metadata": {
  "kernelspec": {
   "display_name": "Python 3",
   "language": "python",
   "name": "python3"
  },
  "language_info": {
   "codemirror_mode": {
    "name": "ipython",
    "version": 3
   },
   "file_extension": ".py",
   "mimetype": "text/x-python",
   "name": "python",
   "nbconvert_exporter": "python",
   "pygments_lexer": "ipython3",
   "version": "3.7.5"
  }
 },
 "nbformat": 4,
 "nbformat_minor": 2
}
